{
  "nbformat": 4,
  "nbformat_minor": 0,
  "metadata": {
    "colab": {
      "name": "Model_using_LSTMs.ipynb",
      "provenance": [],
      "authorship_tag": "ABX9TyOlolHi9tzf/hgI+KBe5r3I",
      "include_colab_link": true
    },
    "kernelspec": {
      "name": "python3",
      "display_name": "Python 3"
    },
    "language_info": {
      "name": "python"
    }
  },
  "cells": [
    {
      "cell_type": "markdown",
      "metadata": {
        "id": "view-in-github",
        "colab_type": "text"
      },
      "source": [
        "<a href=\"https://colab.research.google.com/github/aifajar/eratani_ml_path/blob/main/Model_using_LSTMs.ipynb\" target=\"_parent\"><img src=\"https://colab.research.google.com/assets/colab-badge.svg\" alt=\"Open In Colab\"/></a>"
      ]
    },
    {
      "cell_type": "code",
      "metadata": {
        "id": "4Fyzk4Xdv9d7"
      },
      "source": [
        "import pandas as pd\n",
        "import numpy as np\n",
        "from sklearn.preprocessing import MinMaxScaler\n",
        "import matplotlib.pyplot as plt\n",
        "import tensorflow as tf\n",
        "import os"
      ],
      "execution_count": null,
      "outputs": []
    },
    {
      "cell_type": "code",
      "metadata": {
        "id": "8IiUILp90EHJ"
      },
      "source": [
        "url = 'https://raw.githubusercontent.com/aifajar/eratani_ml_path/main/Climate_Sby_2013-2021.csv'"
      ],
      "execution_count": null,
      "outputs": []
    },
    {
      "cell_type": "code",
      "metadata": {
        "colab": {
          "base_uri": "https://localhost:8080/",
          "height": 568
        },
        "id": "d-Ji4_rJ0FBl",
        "outputId": "bc814443-4343-4c28-955b-8aeb38eb09fa"
      },
      "source": [
        "dateparse = lambda x: pd.datetime.strptime(x, '%d-%m-%Y')\n",
        "\n",
        "df = pd.read_csv(url, header=0, parse_dates=[0], date_parser=dateparse)\n",
        "\n",
        "dataset = df[['Tanggal', 'Tn', 'Tx', 'Tavg', 'RH_avg']]\n",
        "\n",
        "dataset = dataset.fillna(method ='pad')\n",
        "\n",
        "dataset.head(15)"
      ],
      "execution_count": null,
      "outputs": [
        {
          "output_type": "stream",
          "text": [
            "/usr/local/lib/python3.7/dist-packages/ipykernel_launcher.py:1: FutureWarning: The pandas.datetime class is deprecated and will be removed from pandas in a future version. Import from datetime module instead.\n",
            "  \"\"\"Entry point for launching an IPython kernel.\n"
          ],
          "name": "stderr"
        },
        {
          "output_type": "execute_result",
          "data": {
            "text/html": [
              "<div>\n",
              "<style scoped>\n",
              "    .dataframe tbody tr th:only-of-type {\n",
              "        vertical-align: middle;\n",
              "    }\n",
              "\n",
              "    .dataframe tbody tr th {\n",
              "        vertical-align: top;\n",
              "    }\n",
              "\n",
              "    .dataframe thead th {\n",
              "        text-align: right;\n",
              "    }\n",
              "</style>\n",
              "<table border=\"1\" class=\"dataframe\">\n",
              "  <thead>\n",
              "    <tr style=\"text-align: right;\">\n",
              "      <th></th>\n",
              "      <th>Tanggal</th>\n",
              "      <th>Tn</th>\n",
              "      <th>Tx</th>\n",
              "      <th>Tavg</th>\n",
              "      <th>RH_avg</th>\n",
              "    </tr>\n",
              "  </thead>\n",
              "  <tbody>\n",
              "    <tr>\n",
              "      <th>0</th>\n",
              "      <td>2013-01-01</td>\n",
              "      <td>24.0</td>\n",
              "      <td>34.3</td>\n",
              "      <td>27.6</td>\n",
              "      <td>85.0</td>\n",
              "    </tr>\n",
              "    <tr>\n",
              "      <th>1</th>\n",
              "      <td>2013-01-02</td>\n",
              "      <td>24.0</td>\n",
              "      <td>32.6</td>\n",
              "      <td>27.7</td>\n",
              "      <td>86.0</td>\n",
              "    </tr>\n",
              "    <tr>\n",
              "      <th>2</th>\n",
              "      <td>2013-01-03</td>\n",
              "      <td>26.0</td>\n",
              "      <td>32.9</td>\n",
              "      <td>28.2</td>\n",
              "      <td>83.0</td>\n",
              "    </tr>\n",
              "    <tr>\n",
              "      <th>3</th>\n",
              "      <td>2013-01-04</td>\n",
              "      <td>25.0</td>\n",
              "      <td>32.8</td>\n",
              "      <td>28.1</td>\n",
              "      <td>82.0</td>\n",
              "    </tr>\n",
              "    <tr>\n",
              "      <th>4</th>\n",
              "      <td>2013-01-05</td>\n",
              "      <td>25.0</td>\n",
              "      <td>30.0</td>\n",
              "      <td>27.3</td>\n",
              "      <td>86.0</td>\n",
              "    </tr>\n",
              "    <tr>\n",
              "      <th>5</th>\n",
              "      <td>2013-01-06</td>\n",
              "      <td>25.0</td>\n",
              "      <td>33.0</td>\n",
              "      <td>27.9</td>\n",
              "      <td>81.0</td>\n",
              "    </tr>\n",
              "    <tr>\n",
              "      <th>6</th>\n",
              "      <td>2013-01-07</td>\n",
              "      <td>25.0</td>\n",
              "      <td>32.6</td>\n",
              "      <td>28.1</td>\n",
              "      <td>82.0</td>\n",
              "    </tr>\n",
              "    <tr>\n",
              "      <th>7</th>\n",
              "      <td>2013-01-08</td>\n",
              "      <td>26.0</td>\n",
              "      <td>33.1</td>\n",
              "      <td>28.7</td>\n",
              "      <td>75.0</td>\n",
              "    </tr>\n",
              "    <tr>\n",
              "      <th>8</th>\n",
              "      <td>2013-01-09</td>\n",
              "      <td>26.0</td>\n",
              "      <td>31.4</td>\n",
              "      <td>28.1</td>\n",
              "      <td>77.0</td>\n",
              "    </tr>\n",
              "    <tr>\n",
              "      <th>9</th>\n",
              "      <td>2013-01-10</td>\n",
              "      <td>26.0</td>\n",
              "      <td>33.9</td>\n",
              "      <td>29.7</td>\n",
              "      <td>71.0</td>\n",
              "    </tr>\n",
              "    <tr>\n",
              "      <th>10</th>\n",
              "      <td>2013-01-11</td>\n",
              "      <td>26.0</td>\n",
              "      <td>32.2</td>\n",
              "      <td>28.8</td>\n",
              "      <td>78.0</td>\n",
              "    </tr>\n",
              "    <tr>\n",
              "      <th>11</th>\n",
              "      <td>2013-01-12</td>\n",
              "      <td>26.0</td>\n",
              "      <td>33.4</td>\n",
              "      <td>29.0</td>\n",
              "      <td>78.0</td>\n",
              "    </tr>\n",
              "    <tr>\n",
              "      <th>12</th>\n",
              "      <td>2013-01-13</td>\n",
              "      <td>25.0</td>\n",
              "      <td>33.6</td>\n",
              "      <td>28.6</td>\n",
              "      <td>78.0</td>\n",
              "    </tr>\n",
              "    <tr>\n",
              "      <th>13</th>\n",
              "      <td>2013-01-14</td>\n",
              "      <td>25.0</td>\n",
              "      <td>32.7</td>\n",
              "      <td>27.6</td>\n",
              "      <td>84.0</td>\n",
              "    </tr>\n",
              "    <tr>\n",
              "      <th>14</th>\n",
              "      <td>2013-01-15</td>\n",
              "      <td>25.0</td>\n",
              "      <td>31.4</td>\n",
              "      <td>27.2</td>\n",
              "      <td>85.0</td>\n",
              "    </tr>\n",
              "  </tbody>\n",
              "</table>\n",
              "</div>"
            ],
            "text/plain": [
              "      Tanggal    Tn    Tx  Tavg  RH_avg\n",
              "0  2013-01-01  24.0  34.3  27.6    85.0\n",
              "1  2013-01-02  24.0  32.6  27.7    86.0\n",
              "2  2013-01-03  26.0  32.9  28.2    83.0\n",
              "3  2013-01-04  25.0  32.8  28.1    82.0\n",
              "4  2013-01-05  25.0  30.0  27.3    86.0\n",
              "5  2013-01-06  25.0  33.0  27.9    81.0\n",
              "6  2013-01-07  25.0  32.6  28.1    82.0\n",
              "7  2013-01-08  26.0  33.1  28.7    75.0\n",
              "8  2013-01-09  26.0  31.4  28.1    77.0\n",
              "9  2013-01-10  26.0  33.9  29.7    71.0\n",
              "10 2013-01-11  26.0  32.2  28.8    78.0\n",
              "11 2013-01-12  26.0  33.4  29.0    78.0\n",
              "12 2013-01-13  25.0  33.6  28.6    78.0\n",
              "13 2013-01-14  25.0  32.7  27.6    84.0\n",
              "14 2013-01-15  25.0  31.4  27.2    85.0"
            ]
          },
          "metadata": {
            "tags": []
          },
          "execution_count": 5
        }
      ]
    },
    {
      "cell_type": "code",
      "metadata": {
        "colab": {
          "base_uri": "https://localhost:8080/"
        },
        "id": "zmTWMUhG0n9a",
        "outputId": "c5c78390-0933-4424-cf42-1a21a70d3d94"
      },
      "source": [
        "dataset['Tanggal'].dtype"
      ],
      "execution_count": null,
      "outputs": [
        {
          "output_type": "execute_result",
          "data": {
            "text/plain": [
              "dtype('<M8[ns]')"
            ]
          },
          "metadata": {
            "tags": []
          },
          "execution_count": 6
        }
      ]
    },
    {
      "cell_type": "code",
      "metadata": {
        "colab": {
          "base_uri": "https://localhost:8080/"
        },
        "id": "aNnsbXaX1pz2",
        "outputId": "72988ca1-b99c-48a2-c6b3-ce5e981572a1"
      },
      "source": [
        "dataset.info()"
      ],
      "execution_count": null,
      "outputs": [
        {
          "output_type": "stream",
          "text": [
            "<class 'pandas.core.frame.DataFrame'>\n",
            "RangeIndex: 3077 entries, 0 to 3076\n",
            "Data columns (total 5 columns):\n",
            " #   Column   Non-Null Count  Dtype         \n",
            "---  ------   --------------  -----         \n",
            " 0   Tanggal  3077 non-null   datetime64[ns]\n",
            " 1   Tn       3077 non-null   float64       \n",
            " 2   Tx       3077 non-null   float64       \n",
            " 3   Tavg     3077 non-null   float64       \n",
            " 4   RH_avg   3077 non-null   float64       \n",
            "dtypes: datetime64[ns](1), float64(4)\n",
            "memory usage: 120.3 KB\n"
          ],
          "name": "stdout"
        }
      ]
    },
    {
      "cell_type": "code",
      "metadata": {
        "colab": {
          "base_uri": "https://localhost:8080/",
          "height": 269
        },
        "id": "XOgLVJQx1sHq",
        "outputId": "3dbe0327-fc5c-4adf-f25f-ff4728c4f20e"
      },
      "source": [
        "plot_cols = ['Tn', 'Tx', 'Tavg', 'RH_avg']\n",
        "plot_features = dataset[plot_cols]\n",
        "plot_features.index = dataset['Tanggal']\n",
        "_ = plot_features.plot(subplots=True)"
      ],
      "execution_count": null,
      "outputs": [
        {
          "output_type": "display_data",
          "data": {
            "image/png": "[encoded data removed]",
            "text/plain": [
              "<Figure size 432x288 with 4 Axes>"
            ]
          },
          "metadata": {
            "tags": [],
            "needs_background": "light"
          }
        }
      ]
    },
    {
      "cell_type": "code",
      "metadata": {
        "id": "03e_d3gc2AzA"
      },
      "source": [
        "train_df,test_df = dataset[1:2304], dataset[2304:] "
      ],
      "execution_count": null,
      "outputs": []
    },
    {
      "cell_type": "code",
      "metadata": {
        "colab": {
          "base_uri": "https://localhost:8080/"
        },
        "id": "7eJhV4s-3UPz",
        "outputId": "561468f3-2df8-4b50-b2c6-6621867d4ac2"
      },
      "source": [
        "train = train_df\n",
        "scalers={}\n",
        "for i in train_df.columns:\n",
        "    scaler = MinMaxScaler(feature_range=(-1,1))\n",
        "    s_s = scaler.fit_transform(train[i].values.reshape(-1,1))\n",
        "    s_s=np.reshape(s_s,len(s_s))\n",
        "    scalers['scaler_'+ i] = scaler\n",
        "    train[i]=s_s\n",
        "test = test_df\n",
        "for i in train_df.columns:\n",
        "    scaler = scalers['scaler_'+i]\n",
        "    s_s = scaler.transform(test[i].values.reshape(-1,1))\n",
        "    s_s=np.reshape(s_s,len(s_s))\n",
        "    scalers['scaler_'+i] = scaler\n",
        "    test[i]=s_s"
      ],
      "execution_count": null,
      "outputs": [
        {
          "output_type": "stream",
          "text": [
            "/usr/local/lib/python3.7/dist-packages/ipykernel_launcher.py:8: SettingWithCopyWarning: \n",
            "A value is trying to be set on a copy of a slice from a DataFrame.\n",
            "Try using .loc[row_indexer,col_indexer] = value instead\n",
            "\n",
            "See the caveats in the documentation: https://pandas.pydata.org/pandas-docs/stable/user_guide/indexing.html#returning-a-view-versus-a-copy\n",
            "  \n",
            "/usr/local/lib/python3.7/dist-packages/ipykernel_launcher.py:8: SettingWithCopyWarning: \n",
            "A value is trying to be set on a copy of a slice from a DataFrame.\n",
            "Try using .loc[row_indexer,col_indexer] = value instead\n",
            "\n",
            "See the caveats in the documentation: https://pandas.pydata.org/pandas-docs/stable/user_guide/indexing.html#returning-a-view-versus-a-copy\n",
            "  \n",
            "/usr/local/lib/python3.7/dist-packages/ipykernel_launcher.py:8: SettingWithCopyWarning: \n",
            "A value is trying to be set on a copy of a slice from a DataFrame.\n",
            "Try using .loc[row_indexer,col_indexer] = value instead\n",
            "\n",
            "See the caveats in the documentation: https://pandas.pydata.org/pandas-docs/stable/user_guide/indexing.html#returning-a-view-versus-a-copy\n",
            "  \n",
            "/usr/local/lib/python3.7/dist-packages/ipykernel_launcher.py:8: SettingWithCopyWarning: \n",
            "A value is trying to be set on a copy of a slice from a DataFrame.\n",
            "Try using .loc[row_indexer,col_indexer] = value instead\n",
            "\n",
            "See the caveats in the documentation: https://pandas.pydata.org/pandas-docs/stable/user_guide/indexing.html#returning-a-view-versus-a-copy\n",
            "  \n",
            "/usr/local/lib/python3.7/dist-packages/ipykernel_launcher.py:8: SettingWithCopyWarning: \n",
            "A value is trying to be set on a copy of a slice from a DataFrame.\n",
            "Try using .loc[row_indexer,col_indexer] = value instead\n",
            "\n",
            "See the caveats in the documentation: https://pandas.pydata.org/pandas-docs/stable/user_guide/indexing.html#returning-a-view-versus-a-copy\n",
            "  \n",
            "/usr/local/lib/python3.7/dist-packages/ipykernel_launcher.py:15: SettingWithCopyWarning: \n",
            "A value is trying to be set on a copy of a slice from a DataFrame.\n",
            "Try using .loc[row_indexer,col_indexer] = value instead\n",
            "\n",
            "See the caveats in the documentation: https://pandas.pydata.org/pandas-docs/stable/user_guide/indexing.html#returning-a-view-versus-a-copy\n",
            "  from ipykernel import kernelapp as app\n",
            "/usr/local/lib/python3.7/dist-packages/ipykernel_launcher.py:15: SettingWithCopyWarning: \n",
            "A value is trying to be set on a copy of a slice from a DataFrame.\n",
            "Try using .loc[row_indexer,col_indexer] = value instead\n",
            "\n",
            "See the caveats in the documentation: https://pandas.pydata.org/pandas-docs/stable/user_guide/indexing.html#returning-a-view-versus-a-copy\n",
            "  from ipykernel import kernelapp as app\n",
            "/usr/local/lib/python3.7/dist-packages/ipykernel_launcher.py:15: SettingWithCopyWarning: \n",
            "A value is trying to be set on a copy of a slice from a DataFrame.\n",
            "Try using .loc[row_indexer,col_indexer] = value instead\n",
            "\n",
            "See the caveats in the documentation: https://pandas.pydata.org/pandas-docs/stable/user_guide/indexing.html#returning-a-view-versus-a-copy\n",
            "  from ipykernel import kernelapp as app\n",
            "/usr/local/lib/python3.7/dist-packages/ipykernel_launcher.py:15: SettingWithCopyWarning: \n",
            "A value is trying to be set on a copy of a slice from a DataFrame.\n",
            "Try using .loc[row_indexer,col_indexer] = value instead\n",
            "\n",
            "See the caveats in the documentation: https://pandas.pydata.org/pandas-docs/stable/user_guide/indexing.html#returning-a-view-versus-a-copy\n",
            "  from ipykernel import kernelapp as app\n",
            "/usr/local/lib/python3.7/dist-packages/ipykernel_launcher.py:15: SettingWithCopyWarning: \n",
            "A value is trying to be set on a copy of a slice from a DataFrame.\n",
            "Try using .loc[row_indexer,col_indexer] = value instead\n",
            "\n",
            "See the caveats in the documentation: https://pandas.pydata.org/pandas-docs/stable/user_guide/indexing.html#returning-a-view-versus-a-copy\n",
            "  from ipykernel import kernelapp as app\n"
          ],
          "name": "stderr"
        }
      ]
    },
    {
      "cell_type": "code",
      "metadata": {
        "id": "RdEJGZjS3ad_"
      },
      "source": [
        "def split_series(series, n_past, n_future):\n",
        "  #\n",
        "  # n_past ==> no of past observations\n",
        "  #\n",
        "  # n_future ==> no of future observations \n",
        "  #\n",
        "  X, y = list(), list()\n",
        "  for window_start in range(len(series)):\n",
        "    past_end = window_start + n_past\n",
        "    future_end = past_end + n_future\n",
        "    if future_end > len(series):\n",
        "      break\n",
        "    # slicing the past and future parts of the window\n",
        "    past, future = series[window_start:past_end, :], series[past_end:future_end, :]\n",
        "    X.append(past)\n",
        "    y.append(future)\n",
        "  return np.array(X), np.array(y)"
      ],
      "execution_count": null,
      "outputs": []
    },
    {
      "cell_type": "code",
      "metadata": {
        "id": "hNhcdNad3mMu"
      },
      "source": [
        "n_past = 30\n",
        "n_future = 28 \n",
        "n_features = 5"
      ],
      "execution_count": null,
      "outputs": []
    },
    {
      "cell_type": "code",
      "metadata": {
        "colab": {
          "base_uri": "https://localhost:8080/"
        },
        "id": "1mzDQKNt4mgo",
        "outputId": "59d5cacf-2cb6-4434-de17-d64ef6068cda"
      },
      "source": [
        "dataset.shape"
      ],
      "execution_count": null,
      "outputs": [
        {
          "output_type": "execute_result",
          "data": {
            "text/plain": [
              "(3077, 5)"
            ]
          },
          "metadata": {
            "tags": []
          },
          "execution_count": 18
        }
      ]
    },
    {
      "cell_type": "code",
      "metadata": {
        "id": "a1QjsbYf3wx6"
      },
      "source": [
        "X_train, y_train = split_series(train.values,n_past, n_future)\n",
        "X_train = X_train.reshape((X_train.shape[0], X_train.shape[1],n_features))\n",
        "y_train = y_train.reshape((y_train.shape[0], y_train.shape[1], n_features))\n",
        "X_test, y_test = split_series(test.values,n_past, n_future)\n",
        "X_test = X_test.reshape((X_test.shape[0], X_test.shape[1],n_features))\n",
        "y_test = y_test.reshape((y_test.shape[0], y_test.shape[1], n_features))"
      ],
      "execution_count": null,
      "outputs": []
    },
    {
      "cell_type": "code",
      "metadata": {
        "colab": {
          "base_uri": "https://localhost:8080/"
        },
        "id": "IFXmmM7I3z3r",
        "outputId": "45738273-0110-4f5f-cd16-e7c69ddb3c26"
      },
      "source": [
        "# E1D1\n",
        "# n_features ==> no of features at each timestep in the data.\n",
        "#\n",
        "encoder_inputs = tf.keras.layers.Input(shape=(n_past, n_features))\n",
        "encoder_l1 = tf.keras.layers.LSTM(100, return_state=True)\n",
        "encoder_outputs1 = encoder_l1(encoder_inputs)\n",
        "\n",
        "encoder_states1 = encoder_outputs1[1:]\n",
        "\n",
        "#\n",
        "decoder_inputs = tf.keras.layers.RepeatVector(n_future)(encoder_outputs1[0])\n",
        "\n",
        "#\n",
        "decoder_l1 = tf.keras.layers.LSTM(100, return_sequences=True)(decoder_inputs,initial_state = encoder_states1)\n",
        "decoder_outputs1 = tf.keras.layers.TimeDistributed(tf.keras.layers.Dense(n_features))(decoder_l1)\n",
        "\n",
        "#\n",
        "model_e1d1 = tf.keras.models.Model(encoder_inputs,decoder_outputs1)\n",
        "\n",
        "#\n",
        "model_e1d1.summary()"
      ],
      "execution_count": null,
      "outputs": [
        {
          "output_type": "stream",
          "text": [
            "Model: \"model\"\n",
            "__________________________________________________________________________________________________\n",
            "Layer (type)                    Output Shape         Param #     Connected to                     \n",
            "==================================================================================================\n",
            "input_1 (InputLayer)            [(None, 30, 5)]      0                                            \n",
            "__________________________________________________________________________________________________\n",
            "lstm (LSTM)                     [(None, 100), (None, 42400       input_1[0][0]                    \n",
            "__________________________________________________________________________________________________\n",
            "repeat_vector (RepeatVector)    (None, 28, 100)      0           lstm[0][0]                       \n",
            "__________________________________________________________________________________________________\n",
            "lstm_1 (LSTM)                   (None, 28, 100)      80400       repeat_vector[0][0]              \n",
            "                                                                 lstm[0][1]                       \n",
            "                                                                 lstm[0][2]                       \n",
            "__________________________________________________________________________________________________\n",
            "time_distributed (TimeDistribut (None, 28, 5)        505         lstm_1[0][0]                     \n",
            "==================================================================================================\n",
            "Total params: 123,305\n",
            "Trainable params: 123,305\n",
            "Non-trainable params: 0\n",
            "__________________________________________________________________________________________________\n"
          ],
          "name": "stdout"
        }
      ]
    },
    {
      "cell_type": "code",
      "metadata": {
        "colab": {
          "base_uri": "https://localhost:8080/"
        },
        "id": "MtRZO2q543zH",
        "outputId": "ace81fe5-8b0c-4d24-8056-8cb40a37e983"
      },
      "source": [
        "# E2D2\n",
        "# n_features ==> no of features at each timestep in the data.\n",
        "#\n",
        "encoder_inputs = tf.keras.layers.Input(shape=(n_past, n_features))\n",
        "encoder_l1 = tf.keras.layers.LSTM(100,return_sequences = True, return_state=True)\n",
        "encoder_outputs1 = encoder_l1(encoder_inputs)\n",
        "encoder_states1 = encoder_outputs1[1:]\n",
        "encoder_l2 = tf.keras.layers.LSTM(100, return_state=True)\n",
        "encoder_outputs2 = encoder_l2(encoder_outputs1[0])\n",
        "encoder_states2 = encoder_outputs2[1:]\n",
        "#\n",
        "decoder_inputs = tf.keras.layers.RepeatVector(n_future)(encoder_outputs2[0])\n",
        "#\n",
        "decoder_l1 = tf.keras.layers.LSTM(100, return_sequences=True)(decoder_inputs,initial_state = encoder_states1)\n",
        "decoder_l2 = tf.keras.layers.LSTM(100, return_sequences=True)(decoder_l1,initial_state = encoder_states2)\n",
        "decoder_outputs2 = tf.keras.layers.TimeDistributed(tf.keras.layers.Dense(n_features))(decoder_l2)\n",
        "#\n",
        "model_e2d2 = tf.keras.models.Model(encoder_inputs,decoder_outputs2)\n",
        "#\n",
        "model_e2d2.summary()"
      ],
      "execution_count": null,
      "outputs": [
        {
          "output_type": "stream",
          "text": [
            "Model: \"model_1\"\n",
            "__________________________________________________________________________________________________\n",
            "Layer (type)                    Output Shape         Param #     Connected to                     \n",
            "==================================================================================================\n",
            "input_2 (InputLayer)            [(None, 30, 5)]      0                                            \n",
            "__________________________________________________________________________________________________\n",
            "lstm_2 (LSTM)                   [(None, 30, 100), (N 42400       input_2[0][0]                    \n",
            "__________________________________________________________________________________________________\n",
            "lstm_3 (LSTM)                   [(None, 100), (None, 80400       lstm_2[0][0]                     \n",
            "__________________________________________________________________________________________________\n",
            "repeat_vector_1 (RepeatVector)  (None, 28, 100)      0           lstm_3[0][0]                     \n",
            "__________________________________________________________________________________________________\n",
            "lstm_4 (LSTM)                   (None, 28, 100)      80400       repeat_vector_1[0][0]            \n",
            "                                                                 lstm_2[0][1]                     \n",
            "                                                                 lstm_2[0][2]                     \n",
            "__________________________________________________________________________________________________\n",
            "lstm_5 (LSTM)                   (None, 28, 100)      80400       lstm_4[0][0]                     \n",
            "                                                                 lstm_3[0][1]                     \n",
            "                                                                 lstm_3[0][2]                     \n",
            "__________________________________________________________________________________________________\n",
            "time_distributed_1 (TimeDistrib (None, 28, 5)        505         lstm_5[0][0]                     \n",
            "==================================================================================================\n",
            "Total params: 284,105\n",
            "Trainable params: 284,105\n",
            "Non-trainable params: 0\n",
            "__________________________________________________________________________________________________\n"
          ],
          "name": "stdout"
        }
      ]
    },
    {
      "cell_type": "code",
      "metadata": {
        "id": "PxHolwvB4-ie"
      },
      "source": [
        "reduce_lr = tf.keras.callbacks.LearningRateScheduler(lambda x: 1e-3 * 0.90 ** x)\n",
        "model_e1d1.compile(optimizer=tf.keras.optimizers.Adam(), loss=tf.keras.losses.Huber())\n",
        "history_e1d1=model_e1d1.fit(X_train,y_train,epochs=25,validation_data=(X_test,y_test),batch_size=32,verbose=0,callbacks=[reduce_lr])\n",
        "model_e2d2.compile(optimizer=tf.keras.optimizers.Adam(), loss=tf.keras.losses.Huber())\n",
        "history_e2d2=model_e2d2.fit(X_train,y_train,epochs=25,validation_data=(X_test,y_test),batch_size=32,verbose=0,callbacks=[reduce_lr])"
      ],
      "execution_count": null,
      "outputs": []
    },
    {
      "cell_type": "code",
      "metadata": {
        "id": "5vQHNttU5IUJ"
      },
      "source": [
        "pred_e1d1=model_e1d1.predict(X_test)\n",
        "pred_e2d2=model_e2d2.predict(X_test)"
      ],
      "execution_count": null,
      "outputs": []
    },
    {
      "cell_type": "code",
      "metadata": {
        "id": "l1a3Klai6ZJq"
      },
      "source": [
        "for index,i in enumerate(train_df.columns):\n",
        "    scaler = scalers['scaler_'+i]\n",
        "    pred_e1d1[:,:,index]=scaler.inverse_transform(pred_e1d1[:,:,index])\n",
        "    pred_e1d1[:,:,index]=scaler.inverse_transform(pred_e1d1[:,:,index])\n",
        "    pred_e2d2[:,:,index]=scaler.inverse_transform(pred_e2d2[:,:,index])\n",
        "    pred_e2d2[:,:,index]=scaler.inverse_transform(pred_e2d2[:,:,index])\n",
        "    y_train[:,:,index]=scaler.inverse_transform(y_train[:,:,index])\n",
        "    y_test[:,:,index]=scaler.inverse_transform(y_test[:,:,index])"
      ],
      "execution_count": null,
      "outputs": []
    },
    {
      "cell_type": "code",
      "metadata": {
        "colab": {
          "base_uri": "https://localhost:8080/"
        },
        "id": "43S0AQh86czb",
        "outputId": "a79a19bd-cbdc-49fa-fb09-16a3a523104b"
      },
      "source": [
        "from sklearn.metrics import mean_absolute_error\n",
        "for index,i in enumerate(train_df.columns):\n",
        "  print(i)\n",
        "  for j in range(1,29):\n",
        "    print(\"Day \",j,\":\")\n",
        "    print(\"MAE-E1D1 : \",mean_absolute_error(y_test[:,j-1,index],pred_e1d1[:,j-1,index]),end=\", \")\n",
        "    print(\"MAE-E2D2 : \",mean_absolute_error(y_test[:,j-1,index],pred_e2d2[:,j-1,index]))\n",
        "  print()\n",
        "  print()"
      ],
      "execution_count": null,
      "outputs": [
        {
          "output_type": "stream",
          "text": [
            "Tanggal\n",
            "Day  1 :\n",
            "MAE-E1D1 :  1.5570329783862648e+35, MAE-E2D2 :  1.5536351010373981e+35\n",
            "Day  2 :\n",
            "MAE-E1D1 :  1.561978490196665e+35, MAE-E2D2 :  1.557100479591198e+35\n",
            "Day  3 :\n",
            "MAE-E1D1 :  1.5645227204718965e+35, MAE-E2D2 :  1.5583484851203828e+35\n",
            "Day  4 :\n",
            "MAE-E1D1 :  1.5646934347547085e+35, MAE-E2D2 :  1.5585789325689606e+35\n",
            "Day  5 :\n",
            "MAE-E1D1 :  1.5642261581729121e+35, MAE-E2D2 :  1.5580426117141776e+35\n",
            "Day  6 :\n",
            "MAE-E1D1 :  1.563749286380114e+35, MAE-E2D2 :  1.5570978019061455e+35\n",
            "Day  7 :\n",
            "MAE-E1D1 :  1.5634091380796302e+35, MAE-E2D2 :  1.5560130669747274e+35\n",
            "Day  8 :\n",
            "MAE-E1D1 :  1.5632019994513428e+35, MAE-E2D2 :  1.5549454831147054e+35\n",
            "Day  9 :\n",
            "MAE-E1D1 :  1.5630933716652274e+35, MAE-E2D2 :  1.5539706938568547e+35\n",
            "Day  10 :\n",
            "MAE-E1D1 :  1.5630515717553175e+35, MAE-E2D2 :  1.5531155612551722e+35\n",
            "Day  11 :\n",
            "MAE-E1D1 :  1.5630527585179475e+35, MAE-E2D2 :  1.5523791233126778e+35\n",
            "Day  12 :\n",
            "MAE-E1D1 :  1.5630795283142897e+35, MAE-E2D2 :  1.5517493839062798e+35\n",
            "Day  13 :\n",
            "MAE-E1D1 :  1.5631195695194397e+35, MAE-E2D2 :  1.5512129241809047e+35\n",
            "Day  14 :\n",
            "MAE-E1D1 :  1.56316483718295e+35, MAE-E2D2 :  1.5507582714062107e+35\n",
            "Day  15 :\n",
            "MAE-E1D1 :  1.5632105451104988e+35, MAE-E2D2 :  1.5503764050796722e+35\n",
            "Day  16 :\n",
            "MAE-E1D1 :  1.5632541720539257e+35, MAE-E2D2 :  1.5500587699982381e+35\n",
            "Day  17 :\n",
            "MAE-E1D1 :  1.5632945810448372e+35, MAE-E2D2 :  1.5497961825832591e+35\n",
            "Day  18 :\n",
            "MAE-E1D1 :  1.563331397519923e+35, MAE-E2D2 :  1.5495796071173047e+35\n",
            "Day  19 :\n",
            "MAE-E1D1 :  1.5633646496959166e+35, MAE-E2D2 :  1.5494008011327902e+35\n",
            "Day  20 :\n",
            "MAE-E1D1 :  1.563394542974043e+35, MAE-E2D2 :  1.5492527909469334e+35\n",
            "Day  21 :\n",
            "MAE-E1D1 :  1.5634213487328891e+35, MAE-E2D2 :  1.5491298632243978e+35\n",
            "Day  22 :\n",
            "MAE-E1D1 :  1.5634453420856104e+35, MAE-E2D2 :  1.5490274794971865e+35\n",
            "Day  23 :\n",
            "MAE-E1D1 :  1.5634667830687734e+35, MAE-E2D2 :  1.5489421659257372e+35\n",
            "Day  24 :\n",
            "MAE-E1D1 :  1.5634859051620194e+35, MAE-E2D2 :  1.548871249389469e+35\n",
            "Day  25 :\n",
            "MAE-E1D1 :  1.5635029147347938e+35, MAE-E2D2 :  1.5488126327211328e+35\n",
            "Day  26 :\n",
            "MAE-E1D1 :  1.5635179951958667e+35, MAE-E2D2 :  1.5487647025874754e+35\n",
            "Day  27 :\n",
            "MAE-E1D1 :  1.5635313198568438e+35, MAE-E2D2 :  1.5487262312839395e+35\n",
            "Day  28 :\n",
            "MAE-E1D1 :  1.5635430356107218e+35, MAE-E2D2 :  1.5486964640128943e+35\n",
            "\n",
            "\n",
            "Tn\n",
            "Day  1 :\n",
            "MAE-E1D1 :  104.30233556225313, MAE-E2D2 :  104.93425245018645\n",
            "Day  2 :\n",
            "MAE-E1D1 :  104.09752914386088, MAE-E2D2 :  104.77081770230937\n",
            "Day  3 :\n",
            "MAE-E1D1 :  103.98477286866257, MAE-E2D2 :  104.67808758613117\n",
            "Day  4 :\n",
            "MAE-E1D1 :  103.90438253519922, MAE-E2D2 :  104.54656550870928\n",
            "Day  5 :\n",
            "MAE-E1D1 :  103.83774733729868, MAE-E2D2 :  104.3525347981373\n",
            "Day  6 :\n",
            "MAE-E1D1 :  103.78218167480811, MAE-E2D2 :  104.1241879639013\n",
            "Day  7 :\n",
            "MAE-E1D1 :  103.73590748962742, MAE-E2D2 :  103.8953590861912\n",
            "Day  8 :\n",
            "MAE-E1D1 :  103.6980950552658, MAE-E2D2 :  103.6920855644695\n",
            "Day  9 :\n",
            "MAE-E1D1 :  103.66913954239318, MAE-E2D2 :  103.5304222426601\n",
            "Day  10 :\n",
            "MAE-E1D1 :  103.64457571146875, MAE-E2D2 :  103.41261780168759\n",
            "Day  11 :\n",
            "MAE-E1D1 :  103.62270978789091, MAE-E2D2 :  103.33652591385656\n",
            "Day  12 :\n",
            "MAE-E1D1 :  103.60155419504177, MAE-E2D2 :  103.29463594958769\n",
            "Day  13 :\n",
            "MAE-E1D1 :  103.58049539960297, MAE-E2D2 :  103.2784335834354\n",
            "Day  14 :\n",
            "MAE-E1D1 :  103.56264383113584, MAE-E2D2 :  103.28320834836481\n",
            "Day  15 :\n",
            "MAE-E1D1 :  103.54429143767118, MAE-E2D2 :  103.29915793647979\n",
            "Day  16 :\n",
            "MAE-E1D1 :  103.52707360763122, MAE-E2D2 :  103.32347283603092\n",
            "Day  17 :\n",
            "MAE-E1D1 :  103.51070020665004, MAE-E2D2 :  103.352278173436\n",
            "Day  18 :\n",
            "MAE-E1D1 :  103.49425051598575, MAE-E2D2 :  103.38170518289066\n",
            "Day  19 :\n",
            "MAE-E1D1 :  103.47816546136441, MAE-E2D2 :  103.40992090022763\n",
            "Day  20 :\n",
            "MAE-E1D1 :  103.46316221865861, MAE-E2D2 :  103.43610947251986\n",
            "Day  21 :\n",
            "MAE-E1D1 :  103.45066720973179, MAE-E2D2 :  103.46079269494425\n",
            "Day  22 :\n",
            "MAE-E1D1 :  103.43919115759141, MAE-E2D2 :  103.48203939299344\n",
            "Day  23 :\n",
            "MAE-E1D1 :  103.42838489596403, MAE-E2D2 :  103.49940024860743\n",
            "Day  24 :\n",
            "MAE-E1D1 :  103.41819414533049, MAE-E2D2 :  103.51285824482666\n",
            "Day  25 :\n",
            "MAE-E1D1 :  103.40564501671817, MAE-E2D2 :  103.51941033901448\n",
            "Day  26 :\n",
            "MAE-E1D1 :  103.39322040493927, MAE-E2D2 :  103.52130877532106\n",
            "Day  27 :\n",
            "MAE-E1D1 :  103.38089875375759, MAE-E2D2 :  103.51794954225338\n",
            "Day  28 :\n",
            "MAE-E1D1 :  103.3682401412026, MAE-E2D2 :  103.50821113373313\n",
            "\n",
            "\n",
            "Tx\n",
            "Day  1 :\n",
            "MAE-E1D1 :  215.42999182759715, MAE-E2D2 :  214.62137346320975\n",
            "Day  2 :\n",
            "MAE-E1D1 :  215.18230220432392, MAE-E2D2 :  215.21312730245754\n",
            "Day  3 :\n",
            "MAE-E1D1 :  214.67587843314232, MAE-E2D2 :  215.44963871194\n",
            "Day  4 :\n",
            "MAE-E1D1 :  214.18868989145287, MAE-E2D2 :  215.29298716710264\n",
            "Day  5 :\n",
            "MAE-E1D1 :  213.9059844118257, MAE-E2D2 :  214.95904806552653\n",
            "Day  6 :\n",
            "MAE-E1D1 :  213.7992655876629, MAE-E2D2 :  214.51724544503838\n",
            "Day  7 :\n",
            "MAE-E1D1 :  213.7895152171897, MAE-E2D2 :  214.00045009591727\n",
            "Day  8 :\n",
            "MAE-E1D1 :  213.8165639397818, MAE-E2D2 :  213.4526923280854\n",
            "Day  9 :\n",
            "MAE-E1D1 :  213.84759440075752, MAE-E2D2 :  212.9192939800923\n",
            "Day  10 :\n",
            "MAE-E1D1 :  213.874095473476, MAE-E2D2 :  212.43889797359873\n",
            "Day  11 :\n",
            "MAE-E1D1 :  213.89301272770547, MAE-E2D2 :  212.02922710653127\n",
            "Day  12 :\n",
            "MAE-E1D1 :  213.90377583423805, MAE-E2D2 :  211.69286173388943\n",
            "Day  13 :\n",
            "MAE-E1D1 :  213.90785375840176, MAE-E2D2 :  211.4250223468802\n",
            "Day  14 :\n",
            "MAE-E1D1 :  213.90719785210806, MAE-E2D2 :  211.21772168974636\n",
            "Day  15 :\n",
            "MAE-E1D1 :  213.904022476793, MAE-E2D2 :  211.06296456619344\n",
            "Day  16 :\n",
            "MAE-E1D1 :  213.89912107670108, MAE-E2D2 :  210.95206794525657\n",
            "Day  17 :\n",
            "MAE-E1D1 :  213.89248745028536, MAE-E2D2 :  210.87616647049038\n",
            "Day  18 :\n",
            "MAE-E1D1 :  213.88408037324191, MAE-E2D2 :  210.82701751027025\n",
            "Day  19 :\n",
            "MAE-E1D1 :  213.87667172820872, MAE-E2D2 :  210.8000106129566\n",
            "Day  20 :\n",
            "MAE-E1D1 :  213.86848013680745, MAE-E2D2 :  210.78698788861325\n",
            "Day  21 :\n",
            "MAE-E1D1 :  213.860316262698, MAE-E2D2 :  210.78345691105503\n",
            "Day  22 :\n",
            "MAE-E1D1 :  213.84916549767863, MAE-E2D2 :  210.7821669253557\n",
            "Day  23 :\n",
            "MAE-E1D1 :  213.84216580097902, MAE-E2D2 :  210.7870263339421\n",
            "Day  24 :\n",
            "MAE-E1D1 :  213.83622164593064, MAE-E2D2 :  210.79253002145438\n",
            "Day  25 :\n",
            "MAE-E1D1 :  213.82890034680926, MAE-E2D2 :  210.79438741673306\n",
            "Day  26 :\n",
            "MAE-E1D1 :  213.8188591514886, MAE-E2D2 :  210.78965176204068\n",
            "Day  27 :\n",
            "MAE-E1D1 :  213.80919992457555, MAE-E2D2 :  210.77976785158978\n",
            "Day  28 :\n",
            "MAE-E1D1 :  213.80063190140538, MAE-E2D2 :  210.76368444858318\n",
            "\n",
            "\n",
            "Tavg\n",
            "Day  1 :\n",
            "MAE-E1D1 :  110.04843822031714, MAE-E2D2 :  109.64351300713736\n",
            "Day  2 :\n",
            "MAE-E1D1 :  109.94220081094923, MAE-E2D2 :  109.78205278705619\n",
            "Day  3 :\n",
            "MAE-E1D1 :  109.84546019058655, MAE-E2D2 :  109.69169886498479\n",
            "Day  4 :\n",
            "MAE-E1D1 :  109.79338090779395, MAE-E2D2 :  109.5515794381083\n",
            "Day  5 :\n",
            "MAE-E1D1 :  109.72786868217938, MAE-E2D2 :  109.35805564752503\n",
            "Day  6 :\n",
            "MAE-E1D1 :  109.6436562735275, MAE-E2D2 :  109.1607209488\n",
            "Day  7 :\n",
            "MAE-E1D1 :  109.54750493225438, MAE-E2D2 :  108.99280914221396\n",
            "Day  8 :\n",
            "MAE-E1D1 :  109.44681395205704, MAE-E2D2 :  108.8594575977858\n",
            "Day  9 :\n",
            "MAE-E1D1 :  109.34800556971373, MAE-E2D2 :  108.75440560026541\n",
            "Day  10 :\n",
            "MAE-E1D1 :  109.25535649560683, MAE-E2D2 :  108.67136792230872\n",
            "Day  11 :\n",
            "MAE-E1D1 :  109.17001268610608, MAE-E2D2 :  108.60539361111944\n",
            "Day  12 :\n",
            "MAE-E1D1 :  109.0951726988041, MAE-E2D2 :  108.55624401156462\n",
            "Day  13 :\n",
            "MAE-E1D1 :  109.02733338425278, MAE-E2D2 :  108.51810791186114\n",
            "Day  14 :\n",
            "MAE-E1D1 :  108.9675843606448, MAE-E2D2 :  108.49040971894505\n",
            "Day  15 :\n",
            "MAE-E1D1 :  108.91583826928164, MAE-E2D2 :  108.47219950500146\n",
            "Day  16 :\n",
            "MAE-E1D1 :  108.87088818683306, MAE-E2D2 :  108.46201567836316\n",
            "Day  17 :\n",
            "MAE-E1D1 :  108.83074598685322, MAE-E2D2 :  108.45760544931422\n",
            "Day  18 :\n",
            "MAE-E1D1 :  108.79606180883653, MAE-E2D2 :  108.45907516053269\n",
            "Day  19 :\n",
            "MAE-E1D1 :  108.76625653485345, MAE-E2D2 :  108.4650982691589\n",
            "Day  20 :\n",
            "MAE-E1D1 :  108.74066749444886, MAE-E2D2 :  108.47426713059068\n",
            "Day  21 :\n",
            "MAE-E1D1 :  108.72149960395345, MAE-E2D2 :  108.48815320830106\n",
            "Day  22 :\n",
            "MAE-E1D1 :  108.70166907283846, MAE-E2D2 :  108.49916921434455\n",
            "Day  23 :\n",
            "MAE-E1D1 :  108.68771361026018, MAE-E2D2 :  108.51348434533486\n",
            "Day  24 :\n",
            "MAE-E1D1 :  108.67491994250422, MAE-E2D2 :  108.52608763199281\n",
            "Day  25 :\n",
            "MAE-E1D1 :  108.66170389612293, MAE-E2D2 :  108.53502704897406\n",
            "Day  26 :\n",
            "MAE-E1D1 :  108.64918334790448, MAE-E2D2 :  108.54086953701254\n",
            "Day  27 :\n",
            "MAE-E1D1 :  108.63796030822412, MAE-E2D2 :  108.54335217182862\n",
            "Day  28 :\n",
            "MAE-E1D1 :  108.62839379337248, MAE-E2D2 :  108.54179140655688\n",
            "\n",
            "\n",
            "RH_avg\n",
            "Day  1 :\n",
            "MAE-E1D1 :  1628.3364914196163, MAE-E2D2 :  1626.275323281741\n",
            "Day  2 :\n",
            "MAE-E1D1 :  1616.077314323553, MAE-E2D2 :  1624.7077750946557\n",
            "Day  3 :\n",
            "MAE-E1D1 :  1610.553505668427, MAE-E2D2 :  1624.6773894752205\n",
            "Day  4 :\n",
            "MAE-E1D1 :  1611.0226486461788, MAE-E2D2 :  1629.2297209840913\n",
            "Day  5 :\n",
            "MAE-E1D1 :  1614.464826871563, MAE-E2D2 :  1634.7227554747512\n",
            "Day  6 :\n",
            "MAE-E1D1 :  1618.716894735837, MAE-E2D2 :  1639.161812212214\n",
            "Day  7 :\n",
            "MAE-E1D1 :  1622.8004058326424, MAE-E2D2 :  1642.1787112784784\n",
            "Day  8 :\n",
            "MAE-E1D1 :  1626.3918913942475, MAE-E2D2 :  1644.2804360842572\n",
            "Day  9 :\n",
            "MAE-E1D1 :  1629.4352512466176, MAE-E2D2 :  1646.0684321739154\n",
            "Day  10 :\n",
            "MAE-E1D1 :  1631.9525700574482, MAE-E2D2 :  1647.8674314701357\n",
            "Day  11 :\n",
            "MAE-E1D1 :  1634.0241936198827, MAE-E2D2 :  1649.7860398958514\n",
            "Day  12 :\n",
            "MAE-E1D1 :  1635.706449029166, MAE-E2D2 :  1651.7680841371334\n",
            "Day  13 :\n",
            "MAE-E1D1 :  1637.086551431837, MAE-E2D2 :  1653.7412095735858\n",
            "Day  14 :\n",
            "MAE-E1D1 :  1638.2224032439333, MAE-E2D2 :  1655.6027823506786\n",
            "Day  15 :\n",
            "MAE-E1D1 :  1639.1511881737736, MAE-E2D2 :  1657.2437907810317\n",
            "Day  16 :\n",
            "MAE-E1D1 :  1639.9148233935819, MAE-E2D2 :  1658.5948692620134\n",
            "Day  17 :\n",
            "MAE-E1D1 :  1640.548386557808, MAE-E2D2 :  1659.6317895644204\n",
            "Day  18 :\n",
            "MAE-E1D1 :  1641.0715345670392, MAE-E2D2 :  1660.3613804652039\n",
            "Day  19 :\n",
            "MAE-E1D1 :  1641.508000890636, MAE-E2D2 :  1660.8253946144487\n",
            "Day  20 :\n",
            "MAE-E1D1 :  1641.8728937756416, MAE-E2D2 :  1661.0712512138834\n",
            "Day  21 :\n",
            "MAE-E1D1 :  1642.1681573111252, MAE-E2D2 :  1661.1378059600318\n",
            "Day  22 :\n",
            "MAE-E1D1 :  1642.432420954358, MAE-E2D2 :  1661.100044634089\n",
            "Day  23 :\n",
            "MAE-E1D1 :  1642.6466105370548, MAE-E2D2 :  1660.9713090438418\n",
            "Day  24 :\n",
            "MAE-E1D1 :  1642.829473229094, MAE-E2D2 :  1660.7998381033956\n",
            "Day  25 :\n",
            "MAE-E1D1 :  1642.9805771811714, MAE-E2D2 :  1660.6149990998167\n",
            "Day  26 :\n",
            "MAE-E1D1 :  1643.1043416454806, MAE-E2D2 :  1660.4539980755171\n",
            "Day  27 :\n",
            "MAE-E1D1 :  1643.2101309152954, MAE-E2D2 :  1660.3657185645077\n",
            "Day  28 :\n",
            "MAE-E1D1 :  1643.2844664504407, MAE-E2D2 :  1660.3760415189092\n",
            "\n",
            "\n"
          ],
          "name": "stdout"
        }
      ]
    },
    {
      "cell_type": "code",
      "metadata": {
        "colab": {
          "base_uri": "https://localhost:8080/"
        },
        "id": "-WCe1x0a6n10",
        "outputId": "01fa3fbc-561c-4d8d-abe1-7e75ef3a1995"
      },
      "source": [
        "pred_e1d1"
      ],
      "execution_count": null,
      "outputs": [
        {
          "output_type": "execute_result",
          "data": {
            "text/plain": [
              "array([[[ 0.96262085,  0.21294805,  0.38783032, -0.0166879 ,\n",
              "          0.13754764],\n",
              "        [ 0.9981766 ,  0.20479295,  0.3811118 , -0.03826417,\n",
              "          0.1306154 ],\n",
              "        [ 1.0162941 ,  0.20208211,  0.36444098, -0.05944698,\n",
              "          0.13568139],\n",
              "        ...,\n",
              "        [ 1.0106014 ,  0.17893253,  0.31355605, -0.16826278,\n",
              "          0.2231493 ],\n",
              "        [ 1.0109656 ,  0.17884766,  0.3130231 , -0.16899234,\n",
              "          0.22374412],\n",
              "        [ 1.0113031 ,  0.17878579,  0.31250697, -0.16964605,\n",
              "          0.22433923]],\n",
              "\n",
              "       [[ 0.963001  ,  0.21374534,  0.39226815, -0.01962261,\n",
              "          0.13883343],\n",
              "        [ 0.997578  ,  0.2035519 ,  0.38320985, -0.04095157,\n",
              "          0.13050097],\n",
              "        [ 1.015112  ,  0.19909231,  0.36504132, -0.06224047,\n",
              "          0.13391888],\n",
              "        ...,\n",
              "        [ 1.0110207 ,  0.16592129,  0.3120169 , -0.17461982,\n",
              "          0.2104997 ],\n",
              "        [ 1.0113918 ,  0.1658052 ,  0.31149673, -0.17537913,\n",
              "          0.21107736],\n",
              "        [ 1.0117364 ,  0.16571665,  0.31099072, -0.17605937,\n",
              "          0.21165979]],\n",
              "\n",
              "       [[ 0.9635926 ,  0.18990032,  0.38456878, -0.03139098,\n",
              "          0.13401188],\n",
              "        [ 0.9970472 ,  0.18115678,  0.37521136, -0.05368192,\n",
              "          0.12515803],\n",
              "        [ 1.0135919 ,  0.17802358,  0.35730308, -0.07534209,\n",
              "          0.12749004],\n",
              "        ...,\n",
              "        [ 1.0104584 ,  0.14349242,  0.3011286 , -0.19548789,\n",
              "          0.19791222],\n",
              "        [ 1.0108334 ,  0.14330852,  0.30062717, -0.1963009 ,\n",
              "          0.19852477],\n",
              "        [ 1.0111799 ,  0.14315908,  0.3001428 , -0.19702369,\n",
              "          0.19913343]],\n",
              "\n",
              "       ...,\n",
              "\n",
              "       [[ 1.1783358 ,  0.36833408,  0.4035394 , -0.05355749,\n",
              "          0.30599082],\n",
              "        [ 1.264651  ,  0.33694303,  0.40792188, -0.05271729,\n",
              "          0.27226868],\n",
              "        [ 1.3150507 ,  0.31978074,  0.39036742, -0.05501933,\n",
              "          0.26689118],\n",
              "        ...,\n",
              "        [ 1.3117034 ,  0.34592372,  0.33579448, -0.11240382,\n",
              "          0.43639314],\n",
              "        [ 1.311817  ,  0.34587252,  0.33572003, -0.11252198,\n",
              "          0.43645275],\n",
              "        [ 1.3119115 ,  0.3458176 ,  0.33564773, -0.11261647,\n",
              "          0.43649888]],\n",
              "\n",
              "       [[ 1.1763147 ,  0.36304313,  0.40409175, -0.04329864,\n",
              "          0.29233605],\n",
              "        [ 1.2642963 ,  0.33347118,  0.40874562, -0.04350509,\n",
              "          0.25938419],\n",
              "        [ 1.316096  ,  0.31698737,  0.39121833, -0.04746079,\n",
              "          0.2543988 ],\n",
              "        ...,\n",
              "        [ 1.3147413 ,  0.34185407,  0.3340168 , -0.11326335,\n",
              "          0.43173432],\n",
              "        [ 1.3148563 ,  0.34179634,  0.33393794, -0.11338713,\n",
              "          0.4318002 ],\n",
              "        [ 1.3149523 ,  0.34173554,  0.3338621 , -0.11348609,\n",
              "          0.43185103]],\n",
              "\n",
              "       [[ 1.1809989 ,  0.35461023,  0.3992539 , -0.05351342,\n",
              "          0.313253  ],\n",
              "        [ 1.2679476 ,  0.325018  ,  0.4008084 , -0.05194364,\n",
              "          0.2776294 ],\n",
              "        [ 1.3189894 ,  0.3083115 ,  0.38190624, -0.05419384,\n",
              "          0.27142268],\n",
              "        ...,\n",
              "        [ 1.3126332 ,  0.33620402,  0.32971528, -0.11205436,\n",
              "          0.43964815],\n",
              "        [ 1.3127501 ,  0.33614188,  0.32964566, -0.11216352,\n",
              "          0.43969175],\n",
              "        [ 1.3128473 ,  0.33607712,  0.32957727, -0.11224974,\n",
              "          0.43972403]]], dtype=float32)"
            ]
          },
          "metadata": {
            "tags": []
          },
          "execution_count": 31
        }
      ]
    },
    {
      "cell_type": "code",
      "metadata": {
        "id": "pmGUWa6-7Qp9"
      },
      "source": [
        ""
      ],
      "execution_count": null,
      "outputs": []
    }
  ]
}