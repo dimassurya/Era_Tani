{
 "cells": [
  {
   "cell_type": "markdown",
   "metadata": {
    "colab_type": "text",
    "id": "view-in-github"
   },
   "source": [
    "<a href=\"https://colab.research.google.com/github/aifajar/eratani_ml_path/blob/main/Model_using_LSTMs.ipynb\" target=\"_parent\"><img src=\"https://colab.research.google.com/assets/colab-badge.svg\" alt=\"Open In Colab\"/></a>"
   ]
  },
  {
   "cell_type": "code",
   "execution_count": 1,
   "metadata": {
    "id": "4Fyzk4Xdv9d7"
   },
   "outputs": [],
   "source": [
    "import pandas as pd\n",
    "import numpy as np\n",
    "from sklearn.preprocessing import MinMaxScaler\n",
    "import matplotlib.pyplot as plt\n",
    "import tensorflow as tf\n",
    "import os\n"
   ]
  },
  {
   "cell_type": "code",
   "execution_count": 2,
   "metadata": {
    "id": "8IiUILp90EHJ"
   },
   "outputs": [],
   "source": [
    "url = 'https://raw.githubusercontent.com/aifajar/eratani_ml_path/main/Climate_Sby_2013-2021.csv'\n"
   ]
  },
  {
   "cell_type": "code",
   "execution_count": 3,
   "metadata": {
    "colab": {
     "base_uri": "https://localhost:8080/",
     "height": 568
    },
    "id": "d-Ji4_rJ0FBl",
    "outputId": "bc814443-4343-4c28-955b-8aeb38eb09fa"
   },
   "outputs": [
    {
     "name": "stderr",
     "output_type": "stream",
     "text": [
      "/opt/conda/lib/python3.7/site-packages/ipykernel_launcher.py:1: FutureWarning: The pandas.datetime class is deprecated and will be removed from pandas in a future version. Import from datetime module instead.\n",
      "  \"\"\"Entry point for launching an IPython kernel.\n"
     ]
    },
    {
     "data": {
      "text/html": [
       "<div>\n",
       "<style scoped>\n",
       "    .dataframe tbody tr th:only-of-type {\n",
       "        vertical-align: middle;\n",
       "    }\n",
       "\n",
       "    .dataframe tbody tr th {\n",
       "        vertical-align: top;\n",
       "    }\n",
       "\n",
       "    .dataframe thead th {\n",
       "        text-align: right;\n",
       "    }\n",
       "</style>\n",
       "<table border=\"1\" class=\"dataframe\">\n",
       "  <thead>\n",
       "    <tr style=\"text-align: right;\">\n",
       "      <th></th>\n",
       "      <th>Tanggal</th>\n",
       "      <th>Tn</th>\n",
       "      <th>Tx</th>\n",
       "      <th>Tavg</th>\n",
       "      <th>RH_avg</th>\n",
       "    </tr>\n",
       "  </thead>\n",
       "  <tbody>\n",
       "    <tr>\n",
       "      <th>0</th>\n",
       "      <td>2013-01-01</td>\n",
       "      <td>24.0</td>\n",
       "      <td>34.3</td>\n",
       "      <td>27.6</td>\n",
       "      <td>85.0</td>\n",
       "    </tr>\n",
       "    <tr>\n",
       "      <th>1</th>\n",
       "      <td>2013-01-02</td>\n",
       "      <td>24.0</td>\n",
       "      <td>32.6</td>\n",
       "      <td>27.7</td>\n",
       "      <td>86.0</td>\n",
       "    </tr>\n",
       "    <tr>\n",
       "      <th>2</th>\n",
       "      <td>2013-01-03</td>\n",
       "      <td>26.0</td>\n",
       "      <td>32.9</td>\n",
       "      <td>28.2</td>\n",
       "      <td>83.0</td>\n",
       "    </tr>\n",
       "    <tr>\n",
       "      <th>3</th>\n",
       "      <td>2013-01-04</td>\n",
       "      <td>25.0</td>\n",
       "      <td>32.8</td>\n",
       "      <td>28.1</td>\n",
       "      <td>82.0</td>\n",
       "    </tr>\n",
       "    <tr>\n",
       "      <th>4</th>\n",
       "      <td>2013-01-05</td>\n",
       "      <td>25.0</td>\n",
       "      <td>30.0</td>\n",
       "      <td>27.3</td>\n",
       "      <td>86.0</td>\n",
       "    </tr>\n",
       "    <tr>\n",
       "      <th>5</th>\n",
       "      <td>2013-01-06</td>\n",
       "      <td>25.0</td>\n",
       "      <td>33.0</td>\n",
       "      <td>27.9</td>\n",
       "      <td>81.0</td>\n",
       "    </tr>\n",
       "    <tr>\n",
       "      <th>6</th>\n",
       "      <td>2013-01-07</td>\n",
       "      <td>25.0</td>\n",
       "      <td>32.6</td>\n",
       "      <td>28.1</td>\n",
       "      <td>82.0</td>\n",
       "    </tr>\n",
       "    <tr>\n",
       "      <th>7</th>\n",
       "      <td>2013-01-08</td>\n",
       "      <td>26.0</td>\n",
       "      <td>33.1</td>\n",
       "      <td>28.7</td>\n",
       "      <td>75.0</td>\n",
       "    </tr>\n",
       "    <tr>\n",
       "      <th>8</th>\n",
       "      <td>2013-01-09</td>\n",
       "      <td>26.0</td>\n",
       "      <td>31.4</td>\n",
       "      <td>28.1</td>\n",
       "      <td>77.0</td>\n",
       "    </tr>\n",
       "    <tr>\n",
       "      <th>9</th>\n",
       "      <td>2013-01-10</td>\n",
       "      <td>26.0</td>\n",
       "      <td>33.9</td>\n",
       "      <td>29.7</td>\n",
       "      <td>71.0</td>\n",
       "    </tr>\n",
       "    <tr>\n",
       "      <th>10</th>\n",
       "      <td>2013-01-11</td>\n",
       "      <td>26.0</td>\n",
       "      <td>32.2</td>\n",
       "      <td>28.8</td>\n",
       "      <td>78.0</td>\n",
       "    </tr>\n",
       "    <tr>\n",
       "      <th>11</th>\n",
       "      <td>2013-01-12</td>\n",
       "      <td>26.0</td>\n",
       "      <td>33.4</td>\n",
       "      <td>29.0</td>\n",
       "      <td>78.0</td>\n",
       "    </tr>\n",
       "    <tr>\n",
       "      <th>12</th>\n",
       "      <td>2013-01-13</td>\n",
       "      <td>25.0</td>\n",
       "      <td>33.6</td>\n",
       "      <td>28.6</td>\n",
       "      <td>78.0</td>\n",
       "    </tr>\n",
       "    <tr>\n",
       "      <th>13</th>\n",
       "      <td>2013-01-14</td>\n",
       "      <td>25.0</td>\n",
       "      <td>32.7</td>\n",
       "      <td>27.6</td>\n",
       "      <td>84.0</td>\n",
       "    </tr>\n",
       "    <tr>\n",
       "      <th>14</th>\n",
       "      <td>2013-01-15</td>\n",
       "      <td>25.0</td>\n",
       "      <td>31.4</td>\n",
       "      <td>27.2</td>\n",
       "      <td>85.0</td>\n",
       "    </tr>\n",
       "  </tbody>\n",
       "</table>\n",
       "</div>"
      ],
      "text/plain": [
       "      Tanggal    Tn    Tx  Tavg  RH_avg\n",
       "0  2013-01-01  24.0  34.3  27.6    85.0\n",
       "1  2013-01-02  24.0  32.6  27.7    86.0\n",
       "2  2013-01-03  26.0  32.9  28.2    83.0\n",
       "3  2013-01-04  25.0  32.8  28.1    82.0\n",
       "4  2013-01-05  25.0  30.0  27.3    86.0\n",
       "5  2013-01-06  25.0  33.0  27.9    81.0\n",
       "6  2013-01-07  25.0  32.6  28.1    82.0\n",
       "7  2013-01-08  26.0  33.1  28.7    75.0\n",
       "8  2013-01-09  26.0  31.4  28.1    77.0\n",
       "9  2013-01-10  26.0  33.9  29.7    71.0\n",
       "10 2013-01-11  26.0  32.2  28.8    78.0\n",
       "11 2013-01-12  26.0  33.4  29.0    78.0\n",
       "12 2013-01-13  25.0  33.6  28.6    78.0\n",
       "13 2013-01-14  25.0  32.7  27.6    84.0\n",
       "14 2013-01-15  25.0  31.4  27.2    85.0"
      ]
     },
     "execution_count": 3,
     "metadata": {},
     "output_type": "execute_result"
    }
   ],
   "source": [
    "dateparse = lambda x: pd.datetime.strptime(x, '%d-%m-%Y')\n",
    "\n",
    "df = pd.read_csv(url, header=0, parse_dates=[0], date_parser=dateparse)\n",
    "\n",
    "dataset = df[['Tanggal', 'Tn', 'Tx', 'Tavg', 'RH_avg']]\n",
    "\n",
    "dataset = dataset.fillna(method ='pad')\n",
    "\n",
    "dataset.head(15)"
   ]
  },
  {
   "cell_type": "code",
   "execution_count": 4,
   "metadata": {
    "colab": {
     "base_uri": "https://localhost:8080/"
    },
    "id": "zmTWMUhG0n9a",
    "outputId": "c5c78390-0933-4424-cf42-1a21a70d3d94"
   },
   "outputs": [
    {
     "data": {
      "text/plain": [
       "dtype('<M8[ns]')"
      ]
     },
     "execution_count": 4,
     "metadata": {},
     "output_type": "execute_result"
    }
   ],
   "source": [
    "dataset['Tanggal'].dtype"
   ]
  },
  {
   "cell_type": "code",
   "execution_count": 5,
   "metadata": {
    "colab": {
     "base_uri": "https://localhost:8080/"
    },
    "id": "aNnsbXaX1pz2",
    "outputId": "72988ca1-b99c-48a2-c6b3-ce5e981572a1"
   },
   "outputs": [
    {
     "name": "stdout",
     "output_type": "stream",
     "text": [
      "<class 'pandas.core.frame.DataFrame'>\n",
      "RangeIndex: 3077 entries, 0 to 3076\n",
      "Data columns (total 5 columns):\n",
      " #   Column   Non-Null Count  Dtype         \n",
      "---  ------   --------------  -----         \n",
      " 0   Tanggal  3077 non-null   datetime64[ns]\n",
      " 1   Tn       3077 non-null   float64       \n",
      " 2   Tx       3077 non-null   float64       \n",
      " 3   Tavg     3077 non-null   float64       \n",
      " 4   RH_avg   3077 non-null   float64       \n",
      "dtypes: datetime64[ns](1), float64(4)\n",
      "memory usage: 120.3 KB\n"
     ]
    }
   ],
   "source": [
    "dataset.info()"
   ]
  },
  {
   "cell_type": "code",
   "execution_count": 6,
   "metadata": {
    "colab": {
     "base_uri": "https://localhost:8080/",
     "height": 269
    },
    "id": "XOgLVJQx1sHq",
    "outputId": "3dbe0327-fc5c-4adf-f25f-ff4728c4f20e"
   },
   "outputs": [
    {
     "data": {
      "image/png": "[encoded data removed]",
      "text/plain": [
       "<Figure size 432x288 with 4 Axes>"
      ]
     },
     "metadata": {
      "needs_background": "light"
     },
     "output_type": "display_data"
    }
   ],
   "source": [
    "plot_cols = ['Tn', 'Tx', 'Tavg', 'RH_avg']\n",
    "plot_features = dataset[plot_cols]\n",
    "plot_features.index = dataset['Tanggal']\n",
    "_ = plot_features.plot(subplots=True)"
   ]
  },
  {
   "cell_type": "code",
   "execution_count": 7,
   "metadata": {
    "id": "03e_d3gc2AzA"
   },
   "outputs": [],
   "source": [
    "train_df,test_df = dataset[1:2304], dataset[2304:] "
   ]
  },
  {
   "cell_type": "code",
   "execution_count": 8,
   "metadata": {
    "colab": {
     "base_uri": "https://localhost:8080/"
    },
    "id": "7eJhV4s-3UPz",
    "outputId": "561468f3-2df8-4b50-b2c6-6621867d4ac2"
   },
   "outputs": [
    {
     "name": "stderr",
     "output_type": "stream",
     "text": [
      "/opt/conda/lib/python3.7/site-packages/ipykernel_launcher.py:8: SettingWithCopyWarning: \n",
      "A value is trying to be set on a copy of a slice from a DataFrame.\n",
      "Try using .loc[row_indexer,col_indexer] = value instead\n",
      "\n",
      "See the caveats in the documentation: https://pandas.pydata.org/pandas-docs/stable/user_guide/indexing.html#returning-a-view-versus-a-copy\n",
      "  \n",
      "/opt/conda/lib/python3.7/site-packages/ipykernel_launcher.py:8: SettingWithCopyWarning: \n",
      "A value is trying to be set on a copy of a slice from a DataFrame.\n",
      "Try using .loc[row_indexer,col_indexer] = value instead\n",
      "\n",
      "See the caveats in the documentation: https://pandas.pydata.org/pandas-docs/stable/user_guide/indexing.html#returning-a-view-versus-a-copy\n",
      "  \n",
      "/opt/conda/lib/python3.7/site-packages/ipykernel_launcher.py:8: SettingWithCopyWarning: \n",
      "A value is trying to be set on a copy of a slice from a DataFrame.\n",
      "Try using .loc[row_indexer,col_indexer] = value instead\n",
      "\n",
      "See the caveats in the documentation: https://pandas.pydata.org/pandas-docs/stable/user_guide/indexing.html#returning-a-view-versus-a-copy\n",
      "  \n",
      "/opt/conda/lib/python3.7/site-packages/ipykernel_launcher.py:8: SettingWithCopyWarning: \n",
      "A value is trying to be set on a copy of a slice from a DataFrame.\n",
      "Try using .loc[row_indexer,col_indexer] = value instead\n",
      "\n",
      "See the caveats in the documentation: https://pandas.pydata.org/pandas-docs/stable/user_guide/indexing.html#returning-a-view-versus-a-copy\n",
      "  \n",
      "/opt/conda/lib/python3.7/site-packages/ipykernel_launcher.py:8: SettingWithCopyWarning: \n",
      "A value is trying to be set on a copy of a slice from a DataFrame.\n",
      "Try using .loc[row_indexer,col_indexer] = value instead\n",
      "\n",
      "See the caveats in the documentation: https://pandas.pydata.org/pandas-docs/stable/user_guide/indexing.html#returning-a-view-versus-a-copy\n",
      "  \n",
      "/opt/conda/lib/python3.7/site-packages/ipykernel_launcher.py:15: SettingWithCopyWarning: \n",
      "A value is trying to be set on a copy of a slice from a DataFrame.\n",
      "Try using .loc[row_indexer,col_indexer] = value instead\n",
      "\n",
      "See the caveats in the documentation: https://pandas.pydata.org/pandas-docs/stable/user_guide/indexing.html#returning-a-view-versus-a-copy\n",
      "  from ipykernel import kernelapp as app\n",
      "/opt/conda/lib/python3.7/site-packages/ipykernel_launcher.py:15: SettingWithCopyWarning: \n",
      "A value is trying to be set on a copy of a slice from a DataFrame.\n",
      "Try using .loc[row_indexer,col_indexer] = value instead\n",
      "\n",
      "See the caveats in the documentation: https://pandas.pydata.org/pandas-docs/stable/user_guide/indexing.html#returning-a-view-versus-a-copy\n",
      "  from ipykernel import kernelapp as app\n",
      "/opt/conda/lib/python3.7/site-packages/ipykernel_launcher.py:15: SettingWithCopyWarning: \n",
      "A value is trying to be set on a copy of a slice from a DataFrame.\n",
      "Try using .loc[row_indexer,col_indexer] = value instead\n",
      "\n",
      "See the caveats in the documentation: https://pandas.pydata.org/pandas-docs/stable/user_guide/indexing.html#returning-a-view-versus-a-copy\n",
      "  from ipykernel import kernelapp as app\n",
      "/opt/conda/lib/python3.7/site-packages/ipykernel_launcher.py:15: SettingWithCopyWarning: \n",
      "A value is trying to be set on a copy of a slice from a DataFrame.\n",
      "Try using .loc[row_indexer,col_indexer] = value instead\n",
      "\n",
      "See the caveats in the documentation: https://pandas.pydata.org/pandas-docs/stable/user_guide/indexing.html#returning-a-view-versus-a-copy\n",
      "  from ipykernel import kernelapp as app\n",
      "/opt/conda/lib/python3.7/site-packages/ipykernel_launcher.py:15: SettingWithCopyWarning: \n",
      "A value is trying to be set on a copy of a slice from a DataFrame.\n",
      "Try using .loc[row_indexer,col_indexer] = value instead\n",
      "\n",
      "See the caveats in the documentation: https://pandas.pydata.org/pandas-docs/stable/user_guide/indexing.html#returning-a-view-versus-a-copy\n",
      "  from ipykernel import kernelapp as app\n"
     ]
    }
   ],
   "source": [
    "train = train_df\n",
    "scalers={}\n",
    "for i in train_df.columns:\n",
    "    scaler = MinMaxScaler(feature_range=(-1,1))\n",
    "    s_s = scaler.fit_transform(train[i].values.reshape(-1,1))\n",
    "    s_s=np.reshape(s_s,len(s_s))\n",
    "    scalers['scaler_'+ i] = scaler\n",
    "    train[i]=s_s\n",
    "test = test_df\n",
    "for i in train_df.columns:\n",
    "    scaler = scalers['scaler_'+i]\n",
    "    s_s = scaler.transform(test[i].values.reshape(-1,1))\n",
    "    s_s=np.reshape(s_s,len(s_s))\n",
    "    scalers['scaler_'+i] = scaler\n",
    "    test[i]=s_s"
   ]
  },
  {
   "cell_type": "code",
   "execution_count": 9,
   "metadata": {
    "id": "RdEJGZjS3ad_"
   },
   "outputs": [],
   "source": [
    "def split_series(series, n_past, n_future):\n",
    "  #\n",
    "  # n_past ==> no of past observations\n",
    "  #\n",
    "  # n_future ==> no of future observations \n",
    "  #\n",
    "  X, y = list(), list()\n",
    "  for window_start in range(len(series)):\n",
    "    past_end = window_start + n_past\n",
    "    future_end = past_end + n_future\n",
    "    if future_end > len(series):\n",
    "      break\n",
    "    # slicing the past and future parts of the window\n",
    "    past, future = series[window_start:past_end, :], series[past_end:future_end, :]\n",
    "    X.append(past)\n",
    "    y.append(future)\n",
    "  return np.array(X), np.array(y)"
   ]
  },
  {
   "cell_type": "code",
   "execution_count": 10,
   "metadata": {
    "id": "hNhcdNad3mMu"
   },
   "outputs": [],
   "source": [
    "n_past = 30\n",
    "n_future = 28 \n",
    "n_features = 5"
   ]
  },
  {
   "cell_type": "code",
   "execution_count": 11,
   "metadata": {
    "colab": {
     "base_uri": "https://localhost:8080/"
    },
    "id": "1mzDQKNt4mgo",
    "outputId": "59d5cacf-2cb6-4434-de17-d64ef6068cda"
   },
   "outputs": [
    {
     "data": {
      "text/plain": [
       "(3077, 5)"
      ]
     },
     "execution_count": 11,
     "metadata": {},
     "output_type": "execute_result"
    }
   ],
   "source": [
    "dataset.shape"
   ]
  },
  {
   "cell_type": "code",
   "execution_count": 12,
   "metadata": {
    "id": "a1QjsbYf3wx6"
   },
   "outputs": [],
   "source": [
    "X_train, y_train = split_series(train.values,n_past, n_future)\n",
    "X_train = X_train.reshape((X_train.shape[0], X_train.shape[1],n_features))\n",
    "y_train = y_train.reshape((y_train.shape[0], y_train.shape[1], n_features))\n",
    "X_test, y_test = split_series(test.values,n_past, n_future)\n",
    "X_test = X_test.reshape((X_test.shape[0], X_test.shape[1],n_features))\n",
    "y_test = y_test.reshape((y_test.shape[0], y_test.shape[1], n_features))"
   ]
  },
  {
   "cell_type": "code",
   "execution_count": 13,
   "metadata": {
    "colab": {
     "base_uri": "https://localhost:8080/"
    },
    "id": "IFXmmM7I3z3r",
    "outputId": "45738273-0110-4f5f-cd16-e7c69ddb3c26"
   },
   "outputs": [
    {
     "name": "stdout",
     "output_type": "stream",
     "text": [
      "Model: \"functional_1\"\n",
      "__________________________________________________________________________________________________\n",
      "Layer (type)                    Output Shape         Param #     Connected to                     \n",
      "==================================================================================================\n",
      "input_1 (InputLayer)            [(None, 30, 5)]      0                                            \n",
      "__________________________________________________________________________________________________\n",
      "lstm (LSTM)                     [(None, 100), (None, 42400       input_1[0][0]                    \n",
      "__________________________________________________________________________________________________\n",
      "repeat_vector (RepeatVector)    (None, 28, 100)      0           lstm[0][0]                       \n",
      "__________________________________________________________________________________________________\n",
      "lstm_1 (LSTM)                   (None, 28, 100)      80400       repeat_vector[0][0]              \n",
      "                                                                 lstm[0][1]                       \n",
      "                                                                 lstm[0][2]                       \n",
      "__________________________________________________________________________________________________\n",
      "time_distributed (TimeDistribut (None, 28, 5)        505         lstm_1[0][0]                     \n",
      "==================================================================================================\n",
      "Total params: 123,305\n",
      "Trainable params: 123,305\n",
      "Non-trainable params: 0\n",
      "__________________________________________________________________________________________________\n"
     ]
    }
   ],
   "source": [
    "# E1D1\n",
    "# n_features ==> no of features at each timestep in the data.\n",
    "#\n",
    "encoder_inputs = tf.keras.layers.Input(shape=(n_past, n_features))\n",
    "encoder_l1 = tf.keras.layers.LSTM(100, return_state=True)\n",
    "encoder_outputs1 = encoder_l1(encoder_inputs)\n",
    "\n",
    "encoder_states1 = encoder_outputs1[1:]\n",
    "\n",
    "#\n",
    "decoder_inputs = tf.keras.layers.RepeatVector(n_future)(encoder_outputs1[0])\n",
    "\n",
    "#\n",
    "decoder_l1 = tf.keras.layers.LSTM(100, return_sequences=True)(decoder_inputs,initial_state = encoder_states1)\n",
    "decoder_outputs1 = tf.keras.layers.TimeDistributed(tf.keras.layers.Dense(n_features))(decoder_l1)\n",
    "\n",
    "#\n",
    "model_e1d1 = tf.keras.models.Model(encoder_inputs,decoder_outputs1)\n",
    "\n",
    "#\n",
    "model_e1d1.summary()"
   ]
  },
  {
   "cell_type": "code",
   "execution_count": 14,
   "metadata": {
    "colab": {
     "base_uri": "https://localhost:8080/"
    },
    "id": "MtRZO2q543zH",
    "outputId": "ace81fe5-8b0c-4d24-8056-8cb40a37e983"
   },
   "outputs": [
    {
     "name": "stdout",
     "output_type": "stream",
     "text": [
      "Model: \"functional_3\"\n",
      "__________________________________________________________________________________________________\n",
      "Layer (type)                    Output Shape         Param #     Connected to                     \n",
      "==================================================================================================\n",
      "input_2 (InputLayer)            [(None, 30, 5)]      0                                            \n",
      "__________________________________________________________________________________________________\n",
      "lstm_2 (LSTM)                   [(None, 30, 100), (N 42400       input_2[0][0]                    \n",
      "__________________________________________________________________________________________________\n",
      "lstm_3 (LSTM)                   [(None, 100), (None, 80400       lstm_2[0][0]                     \n",
      "__________________________________________________________________________________________________\n",
      "repeat_vector_1 (RepeatVector)  (None, 28, 100)      0           lstm_3[0][0]                     \n",
      "__________________________________________________________________________________________________\n",
      "lstm_4 (LSTM)                   (None, 28, 100)      80400       repeat_vector_1[0][0]            \n",
      "                                                                 lstm_2[0][1]                     \n",
      "                                                                 lstm_2[0][2]                     \n",
      "__________________________________________________________________________________________________\n",
      "lstm_5 (LSTM)                   (None, 28, 100)      80400       lstm_4[0][0]                     \n",
      "                                                                 lstm_3[0][1]                     \n",
      "                                                                 lstm_3[0][2]                     \n",
      "__________________________________________________________________________________________________\n",
      "time_distributed_1 (TimeDistrib (None, 28, 5)        505         lstm_5[0][0]                     \n",
      "==================================================================================================\n",
      "Total params: 284,105\n",
      "Trainable params: 284,105\n",
      "Non-trainable params: 0\n",
      "__________________________________________________________________________________________________\n"
     ]
    }
   ],
   "source": [
    "# E2D2\n",
    "# n_features ==> no of features at each timestep in the data.\n",
    "#\n",
    "encoder_inputs = tf.keras.layers.Input(shape=(n_past, n_features))\n",
    "encoder_l1 = tf.keras.layers.LSTM(100,return_sequences = True, return_state=True)\n",
    "encoder_outputs1 = encoder_l1(encoder_inputs)\n",
    "encoder_states1 = encoder_outputs1[1:]\n",
    "encoder_l2 = tf.keras.layers.LSTM(100, return_state=True)\n",
    "encoder_outputs2 = encoder_l2(encoder_outputs1[0])\n",
    "encoder_states2 = encoder_outputs2[1:]\n",
    "#\n",
    "decoder_inputs = tf.keras.layers.RepeatVector(n_future)(encoder_outputs2[0])\n",
    "#\n",
    "decoder_l1 = tf.keras.layers.LSTM(100, return_sequences=True)(decoder_inputs,initial_state = encoder_states1)\n",
    "decoder_l2 = tf.keras.layers.LSTM(100, return_sequences=True)(decoder_l1,initial_state = encoder_states2)\n",
    "decoder_outputs2 = tf.keras.layers.TimeDistributed(tf.keras.layers.Dense(n_features))(decoder_l2)\n",
    "#\n",
    "model_e2d2 = tf.keras.models.Model(encoder_inputs,decoder_outputs2)\n",
    "#\n",
    "model_e2d2.summary()"
   ]
  },
  {
   "cell_type": "code",
   "execution_count": 22,
   "metadata": {
    "id": "PxHolwvB4-ie"
   },
   "outputs": [],
   "source": [
    "reduce_lr = tf.keras.callbacks.LearningRateScheduler(lambda x: 1e-3 * 0.90 ** x)\n",
    "model_e1d1.compile(optimizer=tf.keras.optimizers.Adam(), loss=tf.keras.losses.Huber())\n",
    "history_e1d1=model_e1d1.fit(X_train,y_train,epochs=25,validation_data=(X_test,y_test),batch_size=32,verbose=0,callbacks=[reduce_lr])\n",
    "model_e2d2.compile(optimizer=tf.keras.optimizers.Adam(), loss=tf.keras.losses.Huber())\n",
    "history_e2d2=model_e2d2.fit(X_train,y_train,epochs=25,validation_data=(X_test,y_test),batch_size=32,verbose=0,callbacks=[reduce_lr])"
   ]
  },
  {
   "cell_type": "code",
   "execution_count": 23,
   "metadata": {
    "id": "5vQHNttU5IUJ"
   },
   "outputs": [],
   "source": [
    "pred_e1d1=model_e1d1.predict(X_test)\n",
    "pred_e2d2=model_e2d2.predict(X_test)"
   ]
  },
  {
   "cell_type": "code",
   "execution_count": 24,
   "metadata": {
    "id": "l1a3Klai6ZJq"
   },
   "outputs": [],
   "source": [
    "for index,i in enumerate(train_df.columns):\n",
    "    scaler = scalers['scaler_'+i]\n",
    "    pred_e1d1[:,:,index]=scaler.inverse_transform(pred_e1d1[:,:,index])\n",
    "    pred_e1d1[:,:,index]=scaler.inverse_transform(pred_e1d1[:,:,index])\n",
    "    pred_e2d2[:,:,index]=scaler.inverse_transform(pred_e2d2[:,:,index])\n",
    "    pred_e2d2[:,:,index]=scaler.inverse_transform(pred_e2d2[:,:,index])\n",
    "    y_train[:,:,index]=scaler.inverse_transform(y_train[:,:,index])\n",
    "    y_test[:,:,index]=scaler.inverse_transform(y_test[:,:,index])"
   ]
  },
  {
   "cell_type": "code",
   "execution_count": 25,
   "metadata": {
    "colab": {
     "base_uri": "https://localhost:8080/"
    },
    "id": "43S0AQh86czb",
    "outputId": "a79a19bd-cbdc-49fa-fb09-16a3a523104b"
   },
   "outputs": [
    {
     "name": "stdout",
     "output_type": "stream",
     "text": [
      "Tanggal\n",
      "Day  1 :\n",
      "MAE-E1D1 :  6.406260989922004e+35, MAE-E2D2 :  6.963951831246097e+35\n",
      "Day  2 :\n",
      "MAE-E1D1 :  6.870702013411412e+35, MAE-E2D2 :  7.103550564403581e+35\n",
      "Day  3 :\n",
      "MAE-E1D1 :  6.944250348715219e+35, MAE-E2D2 :  7.124931068518712e+35\n",
      "Day  4 :\n",
      "MAE-E1D1 :  6.954556786209154e+35, MAE-E2D2 :  7.127818962630622e+35\n",
      "Day  5 :\n",
      "MAE-E1D1 :  6.955926238283781e+35, MAE-E2D2 :  7.128140904423336e+35\n",
      "Day  6 :\n",
      "MAE-E1D1 :  6.956046044247458e+35, MAE-E2D2 :  7.12811029970402e+35\n",
      "Day  7 :\n",
      "MAE-E1D1 :  6.95599081793814e+35, MAE-E2D2 :  7.128033014548058e+35\n",
      "Day  8 :\n",
      "MAE-E1D1 :  6.955908531227784e+35, MAE-E2D2 :  7.12794713712e+35\n",
      "Day  9 :\n",
      "MAE-E1D1 :  6.955823780256003e+35, MAE-E2D2 :  7.12786118444732e+35\n",
      "Day  10 :\n",
      "MAE-E1D1 :  6.955738066595656e+35, MAE-E2D2 :  7.127775287101568e+35\n",
      "Day  11 :\n",
      "MAE-E1D1 :  6.955652154864904e+35, MAE-E2D2 :  7.127689511475061e+35\n",
      "Day  12 :\n",
      "MAE-E1D1 :  6.955566235388381e+35, MAE-E2D2 :  7.127603554376226e+35\n",
      "Day  13 :\n",
      "MAE-E1D1 :  6.95548031480532e+35, MAE-E2D2 :  7.127517608342778e+35\n",
      "Day  14 :\n",
      "MAE-E1D1 :  6.95539439311572e+35, MAE-E2D2 :  7.127431733127799e+35\n",
      "Day  15 :\n",
      "MAE-E1D1 :  6.955308470319582e+35, MAE-E2D2 :  7.127345694145109e+35\n",
      "Day  16 :\n",
      "MAE-E1D1 :  6.955222549736521e+35, MAE-E2D2 :  7.127259907453217e+35\n",
      "Day  17 :\n",
      "MAE-E1D1 :  6.955136625833843e+35, MAE-E2D2 :  7.127174001255155e+35\n",
      "Day  18 :\n",
      "MAE-E1D1 :  6.955050705250782e+35, MAE-E2D2 :  7.127088134892485e+35\n",
      "Day  19 :\n",
      "MAE-E1D1 :  6.954964782454643e+35, MAE-E2D2 :  7.127002182219805e+35\n",
      "Day  20 :\n",
      "MAE-E1D1 :  6.954878861871582e+35, MAE-E2D2 :  7.126916271595592e+35\n",
      "Day  21 :\n",
      "MAE-E1D1 :  6.954792939075443e+35, MAE-E2D2 :  7.126830411872151e+35\n",
      "Day  22 :\n",
      "MAE-E1D1 :  6.954707018492382e+35, MAE-E2D2 :  7.126744580918715e+35\n",
      "Day  23 :\n",
      "MAE-E1D1 :  6.954621095696244e+35, MAE-E2D2 :  7.126658654802962e+35\n",
      "Day  24 :\n",
      "MAE-E1D1 :  6.954535172900105e+35, MAE-E2D2 :  7.126572651229506e+35\n",
      "Day  25 :\n",
      "MAE-E1D1 :  6.954449250103966e+35, MAE-E2D2 :  7.126486698556825e+35\n",
      "Day  26 :\n",
      "MAE-E1D1 :  6.954363328414366e+35, MAE-E2D2 :  7.12640076580184e+35\n",
      "Day  27 :\n",
      "MAE-E1D1 :  6.954277405618228e+35, MAE-E2D2 :  7.126314881734552e+35\n",
      "Day  28 :\n",
      "MAE-E1D1 :  6.954191486141705e+35, MAE-E2D2 :  7.126228931274948e+35\n",
      "\n",
      "\n",
      "Tn\n",
      "Day  1 :\n",
      "MAE-E1D1 :  410.533230007747, MAE-E2D2 :  430.85945507539714\n",
      "Day  2 :\n",
      "MAE-E1D1 :  436.35007516530635, MAE-E2D2 :  439.261902295331\n",
      "Day  3 :\n",
      "MAE-E1D1 :  440.4313996725242, MAE-E2D2 :  440.54172105842457\n",
      "Day  4 :\n",
      "MAE-E1D1 :  441.00857462110463, MAE-E2D2 :  440.72021095659477\n",
      "Day  5 :\n",
      "MAE-E1D1 :  441.07702726396093, MAE-E2D2 :  440.7324308700134\n",
      "Day  6 :\n",
      "MAE-E1D1 :  441.0901847592146, MAE-E2D2 :  440.73745193566685\n",
      "Day  7 :\n",
      "MAE-E1D1 :  441.08891918331545, MAE-E2D2 :  440.7350208099194\n",
      "Day  8 :\n",
      "MAE-E1D1 :  441.0733419578168, MAE-E2D2 :  440.71923055808634\n",
      "Day  9 :\n",
      "MAE-E1D1 :  441.0587126151143, MAE-E2D2 :  440.70456617984024\n",
      "Day  10 :\n",
      "MAE-E1D1 :  441.04288093439027, MAE-E2D2 :  440.68872819101347\n",
      "Day  11 :\n",
      "MAE-E1D1 :  441.0299760769465, MAE-E2D2 :  440.67582410077137\n",
      "Day  12 :\n",
      "MAE-E1D1 :  441.01648454207947, MAE-E2D2 :  440.6623323101704\n",
      "Day  13 :\n",
      "MAE-E1D1 :  441.0006465532526, MAE-E2D2 :  440.64649432134354\n",
      "Day  14 :\n",
      "MAE-E1D1 :  440.9947807167095, MAE-E2D2 :  440.6406282290666\n",
      "Day  15 :\n",
      "MAE-E1D1 :  440.9824622809553, MAE-E2D2 :  440.62831090149257\n",
      "Day  16 :\n",
      "MAE-E1D1 :  440.9701439304458, MAE-E2D2 :  440.6159928067169\n",
      "Day  17 :\n",
      "MAE-E1D1 :  440.95665222508944, MAE-E2D2 :  440.60249990793574\n",
      "Day  18 :\n",
      "MAE-E1D1 :  440.93846803803683, MAE-E2D2 :  440.58431597661706\n",
      "Day  19 :\n",
      "MAE-E1D1 :  440.91793722653523, MAE-E2D2 :  440.56378542084934\n",
      "Day  20 :\n",
      "MAE-E1D1 :  440.8985797698804, MAE-E2D2 :  440.54442728223745\n",
      "Day  21 :\n",
      "MAE-E1D1 :  440.88684784106033, MAE-E2D2 :  440.53269492719426\n",
      "Day  22 :\n",
      "MAE-E1D1 :  440.8768757740213, MAE-E2D2 :  440.522723371623\n",
      "Day  23 :\n",
      "MAE-E1D1 :  440.86749021391626, MAE-E2D2 :  440.51333755578406\n",
      "Day  24 :\n",
      "MAE-E1D1 :  440.85869133123475, MAE-E2D2 :  440.5045388435918\n",
      "Day  25 :\n",
      "MAE-E1D1 :  440.83816051973304, MAE-E2D2 :  440.4840086288025\n",
      "Day  26 :\n",
      "MAE-E1D1 :  440.81645669436324, MAE-E2D2 :  440.46230378049717\n",
      "Day  27 :\n",
      "MAE-E1D1 :  440.7935794289018, MAE-E2D2 :  440.43942736748204\n",
      "Day  28 :\n",
      "MAE-E1D1 :  440.76776945828055, MAE-E2D2 :  440.41361756735006\n",
      "\n",
      "\n",
      "Tx\n",
      "Day  1 :\n",
      "MAE-E1D1 :  1299.2759233016543, MAE-E2D2 :  1372.0168319616905\n",
      "Day  2 :\n",
      "MAE-E1D1 :  1388.1282839982869, MAE-E2D2 :  1398.1866419616358\n",
      "Day  3 :\n",
      "MAE-E1D1 :  1402.2160210465586, MAE-E2D2 :  1402.1987233763966\n",
      "Day  4 :\n",
      "MAE-E1D1 :  1404.206680621781, MAE-E2D2 :  1402.7560098147258\n",
      "Day  5 :\n",
      "MAE-E1D1 :  1404.480121395175, MAE-E2D2 :  1402.8269337233219\n",
      "Day  6 :\n",
      "MAE-E1D1 :  1404.5177358275685, MAE-E2D2 :  1402.835519119348\n",
      "Day  7 :\n",
      "MAE-E1D1 :  1404.5216198116707, MAE-E2D2 :  1402.835185199077\n",
      "Day  8 :\n",
      "MAE-E1D1 :  1404.5197102637264, MAE-E2D2 :  1402.8326716076729\n",
      "Day  9 :\n",
      "MAE-E1D1 :  1404.5052880995765, MAE-E2D2 :  1402.8181491958362\n",
      "Day  10 :\n",
      "MAE-E1D1 :  1404.4998660636347, MAE-E2D2 :  1402.8127022684619\n",
      "Day  11 :\n",
      "MAE-E1D1 :  1404.4998681095058, MAE-E2D2 :  1402.8127046553116\n",
      "Day  12 :\n",
      "MAE-E1D1 :  1404.4962364836113, MAE-E2D2 :  1402.8090708130565\n",
      "Day  13 :\n",
      "MAE-E1D1 :  1404.4880660925498, MAE-E2D2 :  1402.8009132086897\n",
      "Day  14 :\n",
      "MAE-E1D1 :  1404.478079377073, MAE-E2D2 :  1402.7909189916857\n",
      "Day  15 :\n",
      "MAE-E1D1 :  1404.4726324496987, MAE-E2D2 :  1402.7854691659938\n",
      "Day  16 :\n",
      "MAE-E1D1 :  1404.4708168072407, MAE-E2D2 :  1402.7836528415787\n",
      "Day  17 :\n",
      "MAE-E1D1 :  1404.4680933435536, MAE-E2D2 :  1402.7809315942518\n",
      "Day  18 :\n",
      "MAE-E1D1 :  1404.4608304327426, MAE-E2D2 :  1402.7736685129516\n",
      "Day  19 :\n",
      "MAE-E1D1 :  1404.4644620586375, MAE-E2D2 :  1402.7773020142286\n",
      "Day  20 :\n",
      "MAE-E1D1 :  1404.4653698798666, MAE-E2D2 :  1402.778221258238\n",
      "Day  21 :\n",
      "MAE-E1D1 :  1404.4671855223246, MAE-E2D2 :  1402.780032297486\n",
      "Day  22 :\n",
      "MAE-E1D1 :  1404.4490290977435, MAE-E2D2 :  1402.7618806466044\n",
      "Day  23 :\n",
      "MAE-E1D1 :  1404.4562913265975, MAE-E2D2 :  1402.7691389542051\n",
      "Day  24 :\n",
      "MAE-E1D1 :  1404.4680933435536, MAE-E2D2 :  1402.7809411416506\n",
      "Day  25 :\n",
      "MAE-E1D1 :  1404.4680933435536, MAE-E2D2 :  1402.780941482629\n",
      "Day  26 :\n",
      "MAE-E1D1 :  1404.4472134552855, MAE-E2D2 :  1402.760060912404\n",
      "Day  27 :\n",
      "MAE-E1D1 :  1404.4254257457883, MAE-E2D2 :  1402.7382708160571\n",
      "Day  28 :\n",
      "MAE-E1D1 :  1404.4072689802285, MAE-E2D2 :  1402.7201167783257\n",
      "\n",
      "\n",
      "Tavg\n",
      "Day  1 :\n",
      "MAE-E1D1 :  386.3273829523012, MAE-E2D2 :  413.63935818634883\n",
      "Day  2 :\n",
      "MAE-E1D1 :  418.70096584895475, MAE-E2D2 :  422.49068336870425\n",
      "Day  3 :\n",
      "MAE-E1D1 :  423.8431356623986, MAE-E2D2 :  423.8471217866184\n",
      "Day  4 :\n",
      "MAE-E1D1 :  424.56690486289943, MAE-E2D2 :  424.0324362813428\n",
      "Day  5 :\n",
      "MAE-E1D1 :  424.66334011994263, MAE-E2D2 :  424.05287390341306\n",
      "Day  6 :\n",
      "MAE-E1D1 :  424.6767165643277, MAE-E2D2 :  424.0553837883806\n",
      "Day  7 :\n",
      "MAE-E1D1 :  424.6787790581901, MAE-E2D2 :  424.0558878398875\n",
      "Day  8 :\n",
      "MAE-E1D1 :  424.67641230918844, MAE-E2D2 :  424.0532603275576\n",
      "Day  9 :\n",
      "MAE-E1D1 :  424.6716177623899, MAE-E2D2 :  424.0484209420828\n",
      "Day  10 :\n",
      "MAE-E1D1 :  424.66680207492254, MAE-E2D2 :  424.04358155660793\n",
      "Day  11 :\n",
      "MAE-E1D1 :  424.65981253341596, MAE-E2D2 :  424.03659150363353\n",
      "Day  12 :\n",
      "MAE-E1D1 :  424.6608881228996, MAE-E2D2 :  424.03766675213865\n",
      "Day  13 :\n",
      "MAE-E1D1 :  424.65658653216667, MAE-E2D2 :  424.03336908265874\n",
      "Day  14 :\n",
      "MAE-E1D1 :  424.65228485618894, MAE-E2D2 :  424.0290639968958\n",
      "Day  15 :\n",
      "MAE-E1D1 :  424.64959630870294, MAE-E2D2 :  424.02637579038833\n",
      "Day  16 :\n",
      "MAE-E1D1 :  424.64637005171966, MAE-E2D2 :  424.0231503858513\n",
      "Day  17 :\n",
      "MAE-E1D1 :  424.63776669976437, MAE-E2D2 :  424.0145455847373\n",
      "Day  18 :\n",
      "MAE-E1D1 :  424.629163347809, MAE-E2D2 :  424.0059447901209\n",
      "Day  19 :\n",
      "MAE-E1D1 :  424.62109770535096, MAE-E2D2 :  423.9978785509504\n",
      "Day  20 :\n",
      "MAE-E1D1 :  424.61356985763473, MAE-E2D2 :  423.9903501065218\n",
      "Day  21 :\n",
      "MAE-E1D1 :  424.6173337388705, MAE-E2D2 :  423.99411535167167\n",
      "Day  22 :\n",
      "MAE-E1D1 :  424.60711717317895, MAE-E2D2 :  423.98390006464956\n",
      "Day  23 :\n",
      "MAE-E1D1 :  424.60980572066495, MAE-E2D2 :  423.98658852689096\n",
      "Day  24 :\n",
      "MAE-E1D1 :  424.60873021642595, MAE-E2D2 :  423.9855118292271\n",
      "Day  25 :\n",
      "MAE-E1D1 :  424.5990514454763, MAE-E2D2 :  423.97583382547907\n",
      "Day  26 :\n",
      "MAE-E1D1 :  424.5861464175433, MAE-E2D2 :  423.9629292237693\n",
      "Day  27 :\n",
      "MAE-E1D1 :  424.57324138961036, MAE-E2D2 :  423.95002334339006\n",
      "Day  28 :\n",
      "MAE-E1D1 :  424.56248719966624, MAE-E2D2 :  423.9392699206476\n",
      "\n",
      "\n",
      "RH_avg\n",
      "Day  1 :\n",
      "MAE-E1D1 :  29708.84568675803, MAE-E2D2 :  31706.879675497556\n",
      "Day  2 :\n",
      "MAE-E1D1 :  31691.070317955655, MAE-E2D2 :  32349.087225034917\n",
      "Day  3 :\n",
      "MAE-E1D1 :  32005.261364132333, MAE-E2D2 :  32447.71566755412\n",
      "Day  4 :\n",
      "MAE-E1D1 :  32049.495826422833, MAE-E2D2 :  32461.235973507333\n",
      "Day  5 :\n",
      "MAE-E1D1 :  32055.772739175976, MAE-E2D2 :  32463.16593924581\n",
      "Day  6 :\n",
      "MAE-E1D1 :  32056.715236557262, MAE-E2D2 :  32463.482683746508\n",
      "Day  7 :\n",
      "MAE-E1D1 :  32056.902485597067, MAE-E2D2 :  32463.58011085894\n",
      "Day  8 :\n",
      "MAE-E1D1 :  32056.920107367318, MAE-E2D2 :  32463.58401165328\n",
      "Day  9 :\n",
      "MAE-E1D1 :  32056.952814027583, MAE-E2D2 :  32463.6140450419\n",
      "Day  10 :\n",
      "MAE-E1D1 :  32056.774757768853, MAE-E2D2 :  32463.433877444135\n",
      "Day  11 :\n",
      "MAE-E1D1 :  32056.71476737081, MAE-E2D2 :  32463.37382157821\n",
      "Day  12 :\n",
      "MAE-E1D1 :  32056.44453779679, MAE-E2D2 :  32463.103570181564\n",
      "Day  13 :\n",
      "MAE-E1D1 :  32056.384503753492, MAE-E2D2 :  32463.043514315643\n",
      "Day  14 :\n",
      "MAE-E1D1 :  32056.50461002968, MAE-E2D2 :  32463.163626047484\n",
      "Day  15 :\n",
      "MAE-E1D1 :  32056.534643418297, MAE-E2D2 :  32463.19365398045\n",
      "Day  16 :\n",
      "MAE-E1D1 :  32056.504615485333, MAE-E2D2 :  32463.163626047484\n",
      "Day  17 :\n",
      "MAE-E1D1 :  32056.474587552373, MAE-E2D2 :  32463.133598114524\n",
      "Day  18 :\n",
      "MAE-E1D1 :  32056.32444788757, MAE-E2D2 :  32462.983458449722\n",
      "Day  19 :\n",
      "MAE-E1D1 :  32056.144280289805, MAE-E2D2 :  32462.803290851956\n",
      "Day  20 :\n",
      "MAE-E1D1 :  32055.93407930342, MAE-E2D2 :  32462.59309532123\n",
      "Day  21 :\n",
      "MAE-E1D1 :  32055.483660309008, MAE-E2D2 :  32462.142676326817\n",
      "Day  22 :\n",
      "MAE-E1D1 :  32055.423604443087, MAE-E2D2 :  32462.082620460893\n",
      "Day  23 :\n",
      "MAE-E1D1 :  32055.1833809794, MAE-E2D2 :  32461.842396997206\n",
      "Day  24 :\n",
      "MAE-E1D1 :  32055.033241314595, MAE-E2D2 :  32461.6922573324\n",
      "Day  25 :\n",
      "MAE-E1D1 :  32054.85307371683, MAE-E2D2 :  32461.512089734635\n",
      "Day  26 :\n",
      "MAE-E1D1 :  32054.64287273045, MAE-E2D2 :  32461.30189420391\n",
      "Day  27 :\n",
      "MAE-E1D1 :  32054.522760998603, MAE-E2D2 :  32461.181782472067\n",
      "Day  28 :\n",
      "MAE-E1D1 :  32054.13239787011, MAE-E2D2 :  32460.791419343575\n",
      "\n",
      "\n"
     ]
    }
   ],
   "source": [
    "from sklearn.metrics import mean_absolute_error\n",
    "for index,i in enumerate(train_df.columns):\n",
    "  print(i)\n",
    "  for j in range(1,29):\n",
    "    print(\"Day \",j,\":\")\n",
    "    print(\"MAE-E1D1 : \",mean_absolute_error(y_test[:,j-1,index],pred_e1d1[:,j-1,index]),end=\", \")\n",
    "    print(\"MAE-E2D2 : \",mean_absolute_error(y_test[:,j-1,index],pred_e2d2[:,j-1,index]))\n",
    "  print()\n",
    "  print()"
   ]
  },
  {
   "cell_type": "code",
   "execution_count": 26,
   "metadata": {
    "colab": {
     "base_uri": "https://localhost:8080/"
    },
    "id": "-WCe1x0a6n10",
    "outputId": "01fa3fbc-561c-4d8d-abe1-7e75ef3a1995"
   },
   "outputs": [
    {
     "data": {
      "text/plain": [
       "array([[[7.9870449e+35, 5.4053296e+02, 1.5504053e+03, 5.2655530e+02,\n",
       "         3.1362453e+04],\n",
       "        [8.4515398e+35, 5.6634186e+02, 1.6392510e+03, 5.5892340e+02,\n",
       "         3.3344539e+04],\n",
       "        [8.5251674e+35, 5.7043274e+02, 1.6533477e+03, 5.6406903e+02,\n",
       "         3.3658766e+04],\n",
       "        ...,\n",
       "        [8.5372560e+35, 5.7110400e+02, 1.6556631e+03, 5.6491461e+02,\n",
       "         3.3710398e+04],\n",
       "        [8.5372560e+35, 5.7110400e+02, 1.6556631e+03, 5.6491461e+02,\n",
       "         3.3710398e+04],\n",
       "        [8.5372560e+35, 5.7110400e+02, 1.6556631e+03, 5.6491461e+02,\n",
       "         3.3710398e+04]],\n",
       "\n",
       "       [[7.9870441e+35, 5.4053302e+02, 1.5504050e+03, 5.2655518e+02,\n",
       "         3.1362451e+04],\n",
       "        [8.4515398e+35, 5.6634186e+02, 1.6392510e+03, 5.5892340e+02,\n",
       "         3.3344539e+04],\n",
       "        [8.5251674e+35, 5.7043274e+02, 1.6533477e+03, 5.6406903e+02,\n",
       "         3.3658766e+04],\n",
       "        ...,\n",
       "        [8.5372560e+35, 5.7110400e+02, 1.6556631e+03, 5.6491461e+02,\n",
       "         3.3710395e+04],\n",
       "        [8.5372560e+35, 5.7110400e+02, 1.6556631e+03, 5.6491461e+02,\n",
       "         3.3710395e+04],\n",
       "        [8.5372560e+35, 5.7110400e+02, 1.6556631e+03, 5.6491461e+02,\n",
       "         3.3710395e+04]],\n",
       "\n",
       "       [[7.9870394e+35, 5.4053259e+02, 1.5504038e+03, 5.2655487e+02,\n",
       "         3.1362424e+04],\n",
       "        [8.4515398e+35, 5.6634192e+02, 1.6392510e+03, 5.5892346e+02,\n",
       "         3.3344543e+04],\n",
       "        [8.5251674e+35, 5.7043274e+02, 1.6533477e+03, 5.6406897e+02,\n",
       "         3.3658766e+04],\n",
       "        ...,\n",
       "        [8.5372560e+35, 5.7110394e+02, 1.6556631e+03, 5.6491461e+02,\n",
       "         3.3710395e+04],\n",
       "        [8.5372560e+35, 5.7110394e+02, 1.6556631e+03, 5.6491461e+02,\n",
       "         3.3710395e+04],\n",
       "        [8.5372560e+35, 5.7110394e+02, 1.6556631e+03, 5.6491461e+02,\n",
       "         3.3710395e+04]],\n",
       "\n",
       "       ...,\n",
       "\n",
       "       [[7.9869950e+35, 5.4053040e+02, 1.5503966e+03, 5.2655194e+02,\n",
       "         3.1362254e+04],\n",
       "        [8.4515264e+35, 5.6634119e+02, 1.6392487e+03, 5.5892267e+02,\n",
       "         3.3344484e+04],\n",
       "        [8.5251658e+35, 5.7043268e+02, 1.6533473e+03, 5.6406891e+02,\n",
       "         3.3658762e+04],\n",
       "        ...,\n",
       "        [8.5372560e+35, 5.7110400e+02, 1.6556633e+03, 5.6491467e+02,\n",
       "         3.3710398e+04],\n",
       "        [8.5372560e+35, 5.7110400e+02, 1.6556633e+03, 5.6491467e+02,\n",
       "         3.3710398e+04],\n",
       "        [8.5372560e+35, 5.7110400e+02, 1.6556633e+03, 5.6491467e+02,\n",
       "         3.3710398e+04]],\n",
       "\n",
       "       [[7.9869934e+35, 5.4053040e+02, 1.5503962e+03, 5.2655194e+02,\n",
       "         3.1362242e+04],\n",
       "        [8.4515264e+35, 5.6634119e+02, 1.6392487e+03, 5.5892273e+02,\n",
       "         3.3344488e+04],\n",
       "        [8.5251658e+35, 5.7043268e+02, 1.6533473e+03, 5.6406885e+02,\n",
       "         3.3658762e+04],\n",
       "        ...,\n",
       "        [8.5372560e+35, 5.7110400e+02, 1.6556631e+03, 5.6491467e+02,\n",
       "         3.3710398e+04],\n",
       "        [8.5372560e+35, 5.7110400e+02, 1.6556631e+03, 5.6491467e+02,\n",
       "         3.3710398e+04],\n",
       "        [8.5372560e+35, 5.7110400e+02, 1.6556631e+03, 5.6491467e+02,\n",
       "         3.3710398e+04]],\n",
       "\n",
       "       [[7.9869934e+35, 5.4053052e+02, 1.5503958e+03, 5.2655182e+02,\n",
       "         3.1362232e+04],\n",
       "        [8.4515256e+35, 5.6634119e+02, 1.6392484e+03, 5.5892261e+02,\n",
       "         3.3344484e+04],\n",
       "        [8.5251658e+35, 5.7043268e+02, 1.6533473e+03, 5.6406885e+02,\n",
       "         3.3658762e+04],\n",
       "        ...,\n",
       "        [8.5372560e+35, 5.7110400e+02, 1.6556631e+03, 5.6491467e+02,\n",
       "         3.3710398e+04],\n",
       "        [8.5372560e+35, 5.7110400e+02, 1.6556631e+03, 5.6491467e+02,\n",
       "         3.3710398e+04],\n",
       "        [8.5372560e+35, 5.7110400e+02, 1.6556631e+03, 5.6491467e+02,\n",
       "         3.3710398e+04]]], dtype=float32)"
      ]
     },
     "execution_count": 26,
     "metadata": {},
     "output_type": "execute_result"
    }
   ],
   "source": [
    "pred_e1d1"
   ]
  },
  {
   "cell_type": "code",
   "execution_count": 34,
   "metadata": {
    "id": "pmGUWa6-7Qp9"
   },
   "outputs": [
    {
     "name": "stdout",
     "output_type": "stream",
     "text": [
      "WARNING:tensorflow:From /opt/conda/lib/python3.7/site-packages/tensorflow/python/training/tracking/tracking.py:111: Model.state_updates (from tensorflow.python.keras.engine.training) is deprecated and will be removed in a future version.\n",
      "Instructions for updating:\n",
      "This property should not be used in TensorFlow 2.0, as updates are applied automatically.\n",
      "WARNING:tensorflow:From /opt/conda/lib/python3.7/site-packages/tensorflow/python/training/tracking/tracking.py:111: Layer.updates (from tensorflow.python.keras.engine.base_layer) is deprecated and will be removed in a future version.\n",
      "Instructions for updating:\n",
      "This property should not be used in TensorFlow 2.0, as updates are applied automatically.\n",
      "INFO:tensorflow:Assets written to: gs://first-cloud-step-308017.appspot.com/keras-job-dir/keras_export/assets\n"
     ]
    }
   ],
   "source": [
    "##saving model to bucket\n",
    "BUCKET = 'first-cloud-step-308017.appspot.com'\n",
    "path=\"gs://%s/keras-job-dir/keras_export\" % BUCKET\n",
    "\n",
    "model_e1d1.save(path) #save your model \n"
   ]
  },
  {
   "cell_type": "code",
   "execution_count": 35,
   "metadata": {},
   "outputs": [],
   "source": [
    "\n",
    "# to reload model \n",
    "model = tf.keras.models.load_model(path)\n"
   ]
  },
  {
   "cell_type": "code",
   "execution_count": null,
   "metadata": {},
   "outputs": [],
   "source": []
  }
 ],
 "metadata": {
  "colab": {
   "authorship_tag": "ABX9TyOlolHi9tzf/hgI+KBe5r3I",
   "include_colab_link": true,
   "name": "Model_using_LSTMs.ipynb",
   "provenance": []
  },
  "environment": {
   "name": "tf2-gpu.2-3.m71",
   "type": "gcloud",
   "uri": "gcr.io/deeplearning-platform-release/tf2-gpu.2-3:m71"
  },
  "kernelspec": {
   "display_name": "Python 3",
   "language": "python",
   "name": "python3"
  },
  "language_info": {
   "codemirror_mode": {
    "name": "ipython",
    "version": 3
   },
   "file_extension": ".py",
   "mimetype": "text/x-python",
   "name": "python",
   "nbconvert_exporter": "python",
   "pygments_lexer": "ipython3",
   "version": "3.7.10"
  }
 },
 "nbformat": 4,
 "nbformat_minor": 4
}
